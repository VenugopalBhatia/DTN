{
 "cells": [
  {
   "cell_type": "code",
   "execution_count": 2,
   "metadata": {},
   "outputs": [],
   "source": [
    "import pandas as pd\n",
    "import numpy as np\n",
    "\n",
    "import matplotlib.pyplot as plt\n",
    "from sklearn.metrics import auc\n",
    "from sklearn.metrics import plot_roc_curve\n",
    "from sklearn.model_selection import StratifiedKFold\n",
    "from sklearn.model_selection import train_test_split\n",
    "from sklearn.ensemble import RandomForestClassifier\n",
    "from sklearn.metrics import precision_score\n",
    "from sklearn.metrics import recall_score\n",
    "data = pd.read_csv(r'./Data/DescriptorsFinal.csv',skipinitialspace = True)"
   ]
  },
  {
   "cell_type": "code",
   "execution_count": 4,
   "metadata": {},
   "outputs": [
    {
     "output_type": "execute_result",
     "data": {
      "text/plain": [
       "           Name  nAcid   ALogP    ALogp2       AMR       apol  naAromAtom  \\\n",
       "0       A922500      1 -1.1975  1.434006   41.5663  67.171032          18   \n",
       "1    colestipol      0 -2.6682  7.119291   56.0418  34.916239           0   \n",
       "2       DB00159      1  2.1145  4.471110   98.9968  56.807790           0   \n",
       "3       DB00175      1 -1.8959  3.594437  105.0247  70.098548           0   \n",
       "4       DB00227      0 -0.0992  0.009841  105.6455  70.254548           0   \n",
       "..          ...    ...     ...       ...       ...        ...         ...   \n",
       "129       73665      0  1.2492  1.560501   51.3554  48.512688          11   \n",
       "130      252372      0  1.1073  1.226113   94.1155  62.463376           0   \n",
       "131        6300      0  1.2740  1.623076   88.9448  55.474204           0   \n",
       "132        7108      0  0.1702  0.028968   11.0935  31.121137          12   \n",
       "133       98521      0  1.7494  3.060400   93.7361  56.987411           0   \n",
       "\n",
       "     nAromBond  nAtom  nHeavyAtom  ...     WTPT-1    WTPT-2     WTPT-3  \\\n",
       "0           19     56          32  ...  65.422713  2.044460  16.079951   \n",
       "1            0     36          13  ...  24.828511  1.909885  13.660982   \n",
       "2            0     52          22  ...  42.661553  1.939162   4.764175   \n",
       "3            0     66          30  ...  59.280036  1.976001  17.895489   \n",
       "4            0     65          29  ...  58.394554  2.013605  13.655538   \n",
       "..         ...    ...         ...  ...        ...       ...        ...   \n",
       "129         11     39          23  ...  45.691631  1.986593  22.911202   \n",
       "130          0     57          25  ...  51.228838  2.049154   7.910825   \n",
       "131          0     50          22  ...  45.296451  2.058930   5.016011   \n",
       "132         12     23          14  ...  29.510038  2.107860   6.343033   \n",
       "133          0     50          23  ...  47.134869  2.049342   7.552807   \n",
       "\n",
       "        WTPT-4     WTPT-5  WPATH  WPOL  XLogP  Zagreb  Type  \n",
       "0     9.971769   6.108182   3629    48  6.720     166   Yes  \n",
       "1     0.000000  13.660982    364    10 -2.500      46   Yes  \n",
       "2     4.764175   0.000000   1752    19  8.022      84   Yes  \n",
       "3    17.895489   0.000000   2600    46  2.275     148   Yes  \n",
       "4    13.655538   0.000000   2246    47  4.574     150   Yes  \n",
       "..         ...        ...    ...   ...    ...     ...   ...  \n",
       "129   5.622948   9.700134   1313    32  2.912     112    No  \n",
       "130   7.910825   0.000000   1342    52  4.988     146    No  \n",
       "131   5.016011   0.000000    907    48  4.520     134    No  \n",
       "132   0.000000   3.171517    279    21  3.911      76    No  \n",
       "133   5.000621   0.000000   1018    52  4.675     140    No  \n",
       "\n",
       "[134 rows x 1446 columns]"
      ],
      "text/html": "<div>\n<style scoped>\n    .dataframe tbody tr th:only-of-type {\n        vertical-align: middle;\n    }\n\n    .dataframe tbody tr th {\n        vertical-align: top;\n    }\n\n    .dataframe thead th {\n        text-align: right;\n    }\n</style>\n<table border=\"1\" class=\"dataframe\">\n  <thead>\n    <tr style=\"text-align: right;\">\n      <th></th>\n      <th>Name</th>\n      <th>nAcid</th>\n      <th>ALogP</th>\n      <th>ALogp2</th>\n      <th>AMR</th>\n      <th>apol</th>\n      <th>naAromAtom</th>\n      <th>nAromBond</th>\n      <th>nAtom</th>\n      <th>nHeavyAtom</th>\n      <th>...</th>\n      <th>WTPT-1</th>\n      <th>WTPT-2</th>\n      <th>WTPT-3</th>\n      <th>WTPT-4</th>\n      <th>WTPT-5</th>\n      <th>WPATH</th>\n      <th>WPOL</th>\n      <th>XLogP</th>\n      <th>Zagreb</th>\n      <th>Type</th>\n    </tr>\n  </thead>\n  <tbody>\n    <tr>\n      <th>0</th>\n      <td>A922500</td>\n      <td>1</td>\n      <td>-1.1975</td>\n      <td>1.434006</td>\n      <td>41.5663</td>\n      <td>67.171032</td>\n      <td>18</td>\n      <td>19</td>\n      <td>56</td>\n      <td>32</td>\n      <td>...</td>\n      <td>65.422713</td>\n      <td>2.044460</td>\n      <td>16.079951</td>\n      <td>9.971769</td>\n      <td>6.108182</td>\n      <td>3629</td>\n      <td>48</td>\n      <td>6.720</td>\n      <td>166</td>\n      <td>Yes</td>\n    </tr>\n    <tr>\n      <th>1</th>\n      <td>colestipol</td>\n      <td>0</td>\n      <td>-2.6682</td>\n      <td>7.119291</td>\n      <td>56.0418</td>\n      <td>34.916239</td>\n      <td>0</td>\n      <td>0</td>\n      <td>36</td>\n      <td>13</td>\n      <td>...</td>\n      <td>24.828511</td>\n      <td>1.909885</td>\n      <td>13.660982</td>\n      <td>0.000000</td>\n      <td>13.660982</td>\n      <td>364</td>\n      <td>10</td>\n      <td>-2.500</td>\n      <td>46</td>\n      <td>Yes</td>\n    </tr>\n    <tr>\n      <th>2</th>\n      <td>DB00159</td>\n      <td>1</td>\n      <td>2.1145</td>\n      <td>4.471110</td>\n      <td>98.9968</td>\n      <td>56.807790</td>\n      <td>0</td>\n      <td>0</td>\n      <td>52</td>\n      <td>22</td>\n      <td>...</td>\n      <td>42.661553</td>\n      <td>1.939162</td>\n      <td>4.764175</td>\n      <td>4.764175</td>\n      <td>0.000000</td>\n      <td>1752</td>\n      <td>19</td>\n      <td>8.022</td>\n      <td>84</td>\n      <td>Yes</td>\n    </tr>\n    <tr>\n      <th>3</th>\n      <td>DB00175</td>\n      <td>1</td>\n      <td>-1.8959</td>\n      <td>3.594437</td>\n      <td>105.0247</td>\n      <td>70.098548</td>\n      <td>0</td>\n      <td>0</td>\n      <td>66</td>\n      <td>30</td>\n      <td>...</td>\n      <td>59.280036</td>\n      <td>1.976001</td>\n      <td>17.895489</td>\n      <td>17.895489</td>\n      <td>0.000000</td>\n      <td>2600</td>\n      <td>46</td>\n      <td>2.275</td>\n      <td>148</td>\n      <td>Yes</td>\n    </tr>\n    <tr>\n      <th>4</th>\n      <td>DB00227</td>\n      <td>0</td>\n      <td>-0.0992</td>\n      <td>0.009841</td>\n      <td>105.6455</td>\n      <td>70.254548</td>\n      <td>0</td>\n      <td>0</td>\n      <td>65</td>\n      <td>29</td>\n      <td>...</td>\n      <td>58.394554</td>\n      <td>2.013605</td>\n      <td>13.655538</td>\n      <td>13.655538</td>\n      <td>0.000000</td>\n      <td>2246</td>\n      <td>47</td>\n      <td>4.574</td>\n      <td>150</td>\n      <td>Yes</td>\n    </tr>\n    <tr>\n      <th>...</th>\n      <td>...</td>\n      <td>...</td>\n      <td>...</td>\n      <td>...</td>\n      <td>...</td>\n      <td>...</td>\n      <td>...</td>\n      <td>...</td>\n      <td>...</td>\n      <td>...</td>\n      <td>...</td>\n      <td>...</td>\n      <td>...</td>\n      <td>...</td>\n      <td>...</td>\n      <td>...</td>\n      <td>...</td>\n      <td>...</td>\n      <td>...</td>\n      <td>...</td>\n      <td>...</td>\n    </tr>\n    <tr>\n      <th>129</th>\n      <td>73665</td>\n      <td>0</td>\n      <td>1.2492</td>\n      <td>1.560501</td>\n      <td>51.3554</td>\n      <td>48.512688</td>\n      <td>11</td>\n      <td>11</td>\n      <td>39</td>\n      <td>23</td>\n      <td>...</td>\n      <td>45.691631</td>\n      <td>1.986593</td>\n      <td>22.911202</td>\n      <td>5.622948</td>\n      <td>9.700134</td>\n      <td>1313</td>\n      <td>32</td>\n      <td>2.912</td>\n      <td>112</td>\n      <td>No</td>\n    </tr>\n    <tr>\n      <th>130</th>\n      <td>252372</td>\n      <td>0</td>\n      <td>1.1073</td>\n      <td>1.226113</td>\n      <td>94.1155</td>\n      <td>62.463376</td>\n      <td>0</td>\n      <td>0</td>\n      <td>57</td>\n      <td>25</td>\n      <td>...</td>\n      <td>51.228838</td>\n      <td>2.049154</td>\n      <td>7.910825</td>\n      <td>7.910825</td>\n      <td>0.000000</td>\n      <td>1342</td>\n      <td>52</td>\n      <td>4.988</td>\n      <td>146</td>\n      <td>No</td>\n    </tr>\n    <tr>\n      <th>131</th>\n      <td>6300</td>\n      <td>0</td>\n      <td>1.2740</td>\n      <td>1.623076</td>\n      <td>88.9448</td>\n      <td>55.474204</td>\n      <td>0</td>\n      <td>0</td>\n      <td>50</td>\n      <td>22</td>\n      <td>...</td>\n      <td>45.296451</td>\n      <td>2.058930</td>\n      <td>5.016011</td>\n      <td>5.016011</td>\n      <td>0.000000</td>\n      <td>907</td>\n      <td>48</td>\n      <td>4.520</td>\n      <td>134</td>\n      <td>No</td>\n    </tr>\n    <tr>\n      <th>132</th>\n      <td>7108</td>\n      <td>0</td>\n      <td>0.1702</td>\n      <td>0.028968</td>\n      <td>11.0935</td>\n      <td>31.121137</td>\n      <td>12</td>\n      <td>12</td>\n      <td>23</td>\n      <td>14</td>\n      <td>...</td>\n      <td>29.510038</td>\n      <td>2.107860</td>\n      <td>6.343033</td>\n      <td>0.000000</td>\n      <td>3.171517</td>\n      <td>279</td>\n      <td>21</td>\n      <td>3.911</td>\n      <td>76</td>\n      <td>No</td>\n    </tr>\n    <tr>\n      <th>133</th>\n      <td>98521</td>\n      <td>0</td>\n      <td>1.7494</td>\n      <td>3.060400</td>\n      <td>93.7361</td>\n      <td>56.987411</td>\n      <td>0</td>\n      <td>0</td>\n      <td>50</td>\n      <td>23</td>\n      <td>...</td>\n      <td>47.134869</td>\n      <td>2.049342</td>\n      <td>7.552807</td>\n      <td>5.000621</td>\n      <td>0.000000</td>\n      <td>1018</td>\n      <td>52</td>\n      <td>4.675</td>\n      <td>140</td>\n      <td>No</td>\n    </tr>\n  </tbody>\n</table>\n<p>134 rows × 1446 columns</p>\n</div>"
     },
     "metadata": {},
     "execution_count": 4
    }
   ],
   "source": [
    "data"
   ]
  },
  {
   "cell_type": "code",
   "execution_count": 5,
   "metadata": {},
   "outputs": [],
   "source": [
    "data.fillna(0,inplace = True)"
   ]
  },
  {
   "cell_type": "code",
   "execution_count": null,
   "metadata": {},
   "outputs": [],
   "source": []
  },
  {
   "cell_type": "code",
   "execution_count": 6,
   "metadata": {},
   "outputs": [
    {
     "output_type": "execute_result",
     "data": {
      "text/plain": [
       "           Name  nAcid   ALogP    ALogp2       AMR       apol  naAromAtom  \\\n",
       "0       A922500      1 -1.1975  1.434006   41.5663  67.171032          18   \n",
       "1    colestipol      0 -2.6682  7.119291   56.0418  34.916239           0   \n",
       "2       DB00159      1  2.1145  4.471110   98.9968  56.807790           0   \n",
       "3       DB00175      1 -1.8959  3.594437  105.0247  70.098548           0   \n",
       "4       DB00227      0 -0.0992  0.009841  105.6455  70.254548           0   \n",
       "..          ...    ...     ...       ...       ...        ...         ...   \n",
       "129       73665      0  1.2492  1.560501   51.3554  48.512688          11   \n",
       "130      252372      0  1.1073  1.226113   94.1155  62.463376           0   \n",
       "131        6300      0  1.2740  1.623076   88.9448  55.474204           0   \n",
       "132        7108      0  0.1702  0.028968   11.0935  31.121137          12   \n",
       "133       98521      0  1.7494  3.060400   93.7361  56.987411           0   \n",
       "\n",
       "     nAromBond  nAtom  nHeavyAtom  ...     WTPT-1    WTPT-2     WTPT-3  \\\n",
       "0           19     56          32  ...  65.422713  2.044460  16.079951   \n",
       "1            0     36          13  ...  24.828511  1.909885  13.660982   \n",
       "2            0     52          22  ...  42.661553  1.939162   4.764175   \n",
       "3            0     66          30  ...  59.280036  1.976001  17.895489   \n",
       "4            0     65          29  ...  58.394554  2.013605  13.655538   \n",
       "..         ...    ...         ...  ...        ...       ...        ...   \n",
       "129         11     39          23  ...  45.691631  1.986593  22.911202   \n",
       "130          0     57          25  ...  51.228838  2.049154   7.910825   \n",
       "131          0     50          22  ...  45.296451  2.058930   5.016011   \n",
       "132         12     23          14  ...  29.510038  2.107860   6.343033   \n",
       "133          0     50          23  ...  47.134869  2.049342   7.552807   \n",
       "\n",
       "        WTPT-4     WTPT-5  WPATH  WPOL  XLogP  Zagreb  Type  \n",
       "0     9.971769   6.108182   3629    48  6.720     166   Yes  \n",
       "1     0.000000  13.660982    364    10 -2.500      46   Yes  \n",
       "2     4.764175   0.000000   1752    19  8.022      84   Yes  \n",
       "3    17.895489   0.000000   2600    46  2.275     148   Yes  \n",
       "4    13.655538   0.000000   2246    47  4.574     150   Yes  \n",
       "..         ...        ...    ...   ...    ...     ...   ...  \n",
       "129   5.622948   9.700134   1313    32  2.912     112    No  \n",
       "130   7.910825   0.000000   1342    52  4.988     146    No  \n",
       "131   5.016011   0.000000    907    48  4.520     134    No  \n",
       "132   0.000000   3.171517    279    21  3.911      76    No  \n",
       "133   5.000621   0.000000   1018    52  4.675     140    No  \n",
       "\n",
       "[134 rows x 1446 columns]"
      ],
      "text/html": "<div>\n<style scoped>\n    .dataframe tbody tr th:only-of-type {\n        vertical-align: middle;\n    }\n\n    .dataframe tbody tr th {\n        vertical-align: top;\n    }\n\n    .dataframe thead th {\n        text-align: right;\n    }\n</style>\n<table border=\"1\" class=\"dataframe\">\n  <thead>\n    <tr style=\"text-align: right;\">\n      <th></th>\n      <th>Name</th>\n      <th>nAcid</th>\n      <th>ALogP</th>\n      <th>ALogp2</th>\n      <th>AMR</th>\n      <th>apol</th>\n      <th>naAromAtom</th>\n      <th>nAromBond</th>\n      <th>nAtom</th>\n      <th>nHeavyAtom</th>\n      <th>...</th>\n      <th>WTPT-1</th>\n      <th>WTPT-2</th>\n      <th>WTPT-3</th>\n      <th>WTPT-4</th>\n      <th>WTPT-5</th>\n      <th>WPATH</th>\n      <th>WPOL</th>\n      <th>XLogP</th>\n      <th>Zagreb</th>\n      <th>Type</th>\n    </tr>\n  </thead>\n  <tbody>\n    <tr>\n      <th>0</th>\n      <td>A922500</td>\n      <td>1</td>\n      <td>-1.1975</td>\n      <td>1.434006</td>\n      <td>41.5663</td>\n      <td>67.171032</td>\n      <td>18</td>\n      <td>19</td>\n      <td>56</td>\n      <td>32</td>\n      <td>...</td>\n      <td>65.422713</td>\n      <td>2.044460</td>\n      <td>16.079951</td>\n      <td>9.971769</td>\n      <td>6.108182</td>\n      <td>3629</td>\n      <td>48</td>\n      <td>6.720</td>\n      <td>166</td>\n      <td>Yes</td>\n    </tr>\n    <tr>\n      <th>1</th>\n      <td>colestipol</td>\n      <td>0</td>\n      <td>-2.6682</td>\n      <td>7.119291</td>\n      <td>56.0418</td>\n      <td>34.916239</td>\n      <td>0</td>\n      <td>0</td>\n      <td>36</td>\n      <td>13</td>\n      <td>...</td>\n      <td>24.828511</td>\n      <td>1.909885</td>\n      <td>13.660982</td>\n      <td>0.000000</td>\n      <td>13.660982</td>\n      <td>364</td>\n      <td>10</td>\n      <td>-2.500</td>\n      <td>46</td>\n      <td>Yes</td>\n    </tr>\n    <tr>\n      <th>2</th>\n      <td>DB00159</td>\n      <td>1</td>\n      <td>2.1145</td>\n      <td>4.471110</td>\n      <td>98.9968</td>\n      <td>56.807790</td>\n      <td>0</td>\n      <td>0</td>\n      <td>52</td>\n      <td>22</td>\n      <td>...</td>\n      <td>42.661553</td>\n      <td>1.939162</td>\n      <td>4.764175</td>\n      <td>4.764175</td>\n      <td>0.000000</td>\n      <td>1752</td>\n      <td>19</td>\n      <td>8.022</td>\n      <td>84</td>\n      <td>Yes</td>\n    </tr>\n    <tr>\n      <th>3</th>\n      <td>DB00175</td>\n      <td>1</td>\n      <td>-1.8959</td>\n      <td>3.594437</td>\n      <td>105.0247</td>\n      <td>70.098548</td>\n      <td>0</td>\n      <td>0</td>\n      <td>66</td>\n      <td>30</td>\n      <td>...</td>\n      <td>59.280036</td>\n      <td>1.976001</td>\n      <td>17.895489</td>\n      <td>17.895489</td>\n      <td>0.000000</td>\n      <td>2600</td>\n      <td>46</td>\n      <td>2.275</td>\n      <td>148</td>\n      <td>Yes</td>\n    </tr>\n    <tr>\n      <th>4</th>\n      <td>DB00227</td>\n      <td>0</td>\n      <td>-0.0992</td>\n      <td>0.009841</td>\n      <td>105.6455</td>\n      <td>70.254548</td>\n      <td>0</td>\n      <td>0</td>\n      <td>65</td>\n      <td>29</td>\n      <td>...</td>\n      <td>58.394554</td>\n      <td>2.013605</td>\n      <td>13.655538</td>\n      <td>13.655538</td>\n      <td>0.000000</td>\n      <td>2246</td>\n      <td>47</td>\n      <td>4.574</td>\n      <td>150</td>\n      <td>Yes</td>\n    </tr>\n    <tr>\n      <th>...</th>\n      <td>...</td>\n      <td>...</td>\n      <td>...</td>\n      <td>...</td>\n      <td>...</td>\n      <td>...</td>\n      <td>...</td>\n      <td>...</td>\n      <td>...</td>\n      <td>...</td>\n      <td>...</td>\n      <td>...</td>\n      <td>...</td>\n      <td>...</td>\n      <td>...</td>\n      <td>...</td>\n      <td>...</td>\n      <td>...</td>\n      <td>...</td>\n      <td>...</td>\n      <td>...</td>\n    </tr>\n    <tr>\n      <th>129</th>\n      <td>73665</td>\n      <td>0</td>\n      <td>1.2492</td>\n      <td>1.560501</td>\n      <td>51.3554</td>\n      <td>48.512688</td>\n      <td>11</td>\n      <td>11</td>\n      <td>39</td>\n      <td>23</td>\n      <td>...</td>\n      <td>45.691631</td>\n      <td>1.986593</td>\n      <td>22.911202</td>\n      <td>5.622948</td>\n      <td>9.700134</td>\n      <td>1313</td>\n      <td>32</td>\n      <td>2.912</td>\n      <td>112</td>\n      <td>No</td>\n    </tr>\n    <tr>\n      <th>130</th>\n      <td>252372</td>\n      <td>0</td>\n      <td>1.1073</td>\n      <td>1.226113</td>\n      <td>94.1155</td>\n      <td>62.463376</td>\n      <td>0</td>\n      <td>0</td>\n      <td>57</td>\n      <td>25</td>\n      <td>...</td>\n      <td>51.228838</td>\n      <td>2.049154</td>\n      <td>7.910825</td>\n      <td>7.910825</td>\n      <td>0.000000</td>\n      <td>1342</td>\n      <td>52</td>\n      <td>4.988</td>\n      <td>146</td>\n      <td>No</td>\n    </tr>\n    <tr>\n      <th>131</th>\n      <td>6300</td>\n      <td>0</td>\n      <td>1.2740</td>\n      <td>1.623076</td>\n      <td>88.9448</td>\n      <td>55.474204</td>\n      <td>0</td>\n      <td>0</td>\n      <td>50</td>\n      <td>22</td>\n      <td>...</td>\n      <td>45.296451</td>\n      <td>2.058930</td>\n      <td>5.016011</td>\n      <td>5.016011</td>\n      <td>0.000000</td>\n      <td>907</td>\n      <td>48</td>\n      <td>4.520</td>\n      <td>134</td>\n      <td>No</td>\n    </tr>\n    <tr>\n      <th>132</th>\n      <td>7108</td>\n      <td>0</td>\n      <td>0.1702</td>\n      <td>0.028968</td>\n      <td>11.0935</td>\n      <td>31.121137</td>\n      <td>12</td>\n      <td>12</td>\n      <td>23</td>\n      <td>14</td>\n      <td>...</td>\n      <td>29.510038</td>\n      <td>2.107860</td>\n      <td>6.343033</td>\n      <td>0.000000</td>\n      <td>3.171517</td>\n      <td>279</td>\n      <td>21</td>\n      <td>3.911</td>\n      <td>76</td>\n      <td>No</td>\n    </tr>\n    <tr>\n      <th>133</th>\n      <td>98521</td>\n      <td>0</td>\n      <td>1.7494</td>\n      <td>3.060400</td>\n      <td>93.7361</td>\n      <td>56.987411</td>\n      <td>0</td>\n      <td>0</td>\n      <td>50</td>\n      <td>23</td>\n      <td>...</td>\n      <td>47.134869</td>\n      <td>2.049342</td>\n      <td>7.552807</td>\n      <td>5.000621</td>\n      <td>0.000000</td>\n      <td>1018</td>\n      <td>52</td>\n      <td>4.675</td>\n      <td>140</td>\n      <td>No</td>\n    </tr>\n  </tbody>\n</table>\n<p>134 rows × 1446 columns</p>\n</div>"
     },
     "metadata": {},
     "execution_count": 6
    }
   ],
   "source": [
    "data"
   ]
  },
  {
   "cell_type": "code",
   "execution_count": 7,
   "metadata": {
    "scrolled": true
   },
   "outputs": [
    {
     "output_type": "execute_result",
     "data": {
      "text/plain": [
       "           nAcid      ALogP     ALogp2         AMR        apol  naAromAtom  \\\n",
       "count  50.000000  50.000000  50.000000   50.000000   50.000000   50.000000   \n",
       "mean    0.600000   0.103062   5.452909   63.078496   60.688393   10.140000   \n",
       "std     0.670059   2.356556  11.908181   30.905187   20.953731    7.761785   \n",
       "min     0.000000  -7.885400   0.003505    7.219300   16.597965    0.000000   \n",
       "25%     0.000000  -1.188975   0.577356   44.481375   50.040507    1.250000   \n",
       "50%     1.000000  -0.176850   1.514663   55.965650   59.828153   12.000000   \n",
       "75%     1.000000   1.233900   4.219752   79.288525   73.910505   15.750000   \n",
       "max     3.000000   7.533200  62.179533  165.089800  101.557341   24.000000   \n",
       "\n",
       "       nAromBond      nAtom  nHeavyAtom         nH  ...        AMW  \\\n",
       "count  50.000000  50.000000   50.000000  50.000000  ...  50.000000   \n",
       "mean   10.540000  52.880000   27.920000  24.960000  ...   8.141725   \n",
       "std     8.197088  19.253031    9.997632  11.520984  ...   3.027461   \n",
       "min     0.000000  14.000000    9.000000   5.000000  ...   4.717802   \n",
       "25%     1.250000  37.000000   21.000000  17.250000  ...   6.534568   \n",
       "50%    12.000000  52.000000   28.000000  24.000000  ...   7.843479   \n",
       "75%    17.000000  66.000000   32.750000  33.000000  ...   8.396952   \n",
       "max    26.000000  87.000000   50.000000  58.000000  ...  22.191049   \n",
       "\n",
       "           WTPT-1     WTPT-2     WTPT-3     WTPT-4     WTPT-5        WPATH  \\\n",
       "count   50.000000  50.000000  50.000000  50.000000  50.000000     50.00000   \n",
       "mean    55.900345   1.995809  18.406705  10.537302   4.093793   2833.68000   \n",
       "std     20.521900   0.046796   9.241652   5.463729   4.849314   2510.15054   \n",
       "min     17.528614   1.889152   2.414214   0.000000   0.000000     88.00000   \n",
       "25%     40.900764   1.967940  12.457292   7.595654   0.000000    927.25000   \n",
       "50%     56.530962   2.003079  16.533627  10.329443   3.054602   2249.50000   \n",
       "75%     65.081421   2.034773  23.337904  12.893674   6.460240   3528.75000   \n",
       "max    102.378738   2.115324  40.323875  28.311049  19.478988  11632.00000   \n",
       "\n",
       "            WPOL      XLogP      Zagreb  \n",
       "count  50.000000  50.000000   50.000000  \n",
       "mean   42.980000   4.958200  142.920000  \n",
       "std    19.566204   3.583184   56.051303  \n",
       "min     9.000000  -2.500000   40.000000  \n",
       "25%    28.000000   2.730750  100.000000  \n",
       "50%    44.000000   4.281000  144.000000  \n",
       "75%    51.750000   6.617500  166.000000  \n",
       "max    87.000000  14.507000  272.000000  \n",
       "\n",
       "[8 rows x 1444 columns]"
      ],
      "text/html": "<div>\n<style scoped>\n    .dataframe tbody tr th:only-of-type {\n        vertical-align: middle;\n    }\n\n    .dataframe tbody tr th {\n        vertical-align: top;\n    }\n\n    .dataframe thead th {\n        text-align: right;\n    }\n</style>\n<table border=\"1\" class=\"dataframe\">\n  <thead>\n    <tr style=\"text-align: right;\">\n      <th></th>\n      <th>nAcid</th>\n      <th>ALogP</th>\n      <th>ALogp2</th>\n      <th>AMR</th>\n      <th>apol</th>\n      <th>naAromAtom</th>\n      <th>nAromBond</th>\n      <th>nAtom</th>\n      <th>nHeavyAtom</th>\n      <th>nH</th>\n      <th>...</th>\n      <th>AMW</th>\n      <th>WTPT-1</th>\n      <th>WTPT-2</th>\n      <th>WTPT-3</th>\n      <th>WTPT-4</th>\n      <th>WTPT-5</th>\n      <th>WPATH</th>\n      <th>WPOL</th>\n      <th>XLogP</th>\n      <th>Zagreb</th>\n    </tr>\n  </thead>\n  <tbody>\n    <tr>\n      <th>count</th>\n      <td>50.000000</td>\n      <td>50.000000</td>\n      <td>50.000000</td>\n      <td>50.000000</td>\n      <td>50.000000</td>\n      <td>50.000000</td>\n      <td>50.000000</td>\n      <td>50.000000</td>\n      <td>50.000000</td>\n      <td>50.000000</td>\n      <td>...</td>\n      <td>50.000000</td>\n      <td>50.000000</td>\n      <td>50.000000</td>\n      <td>50.000000</td>\n      <td>50.000000</td>\n      <td>50.000000</td>\n      <td>50.00000</td>\n      <td>50.000000</td>\n      <td>50.000000</td>\n      <td>50.000000</td>\n    </tr>\n    <tr>\n      <th>mean</th>\n      <td>0.600000</td>\n      <td>0.103062</td>\n      <td>5.452909</td>\n      <td>63.078496</td>\n      <td>60.688393</td>\n      <td>10.140000</td>\n      <td>10.540000</td>\n      <td>52.880000</td>\n      <td>27.920000</td>\n      <td>24.960000</td>\n      <td>...</td>\n      <td>8.141725</td>\n      <td>55.900345</td>\n      <td>1.995809</td>\n      <td>18.406705</td>\n      <td>10.537302</td>\n      <td>4.093793</td>\n      <td>2833.68000</td>\n      <td>42.980000</td>\n      <td>4.958200</td>\n      <td>142.920000</td>\n    </tr>\n    <tr>\n      <th>std</th>\n      <td>0.670059</td>\n      <td>2.356556</td>\n      <td>11.908181</td>\n      <td>30.905187</td>\n      <td>20.953731</td>\n      <td>7.761785</td>\n      <td>8.197088</td>\n      <td>19.253031</td>\n      <td>9.997632</td>\n      <td>11.520984</td>\n      <td>...</td>\n      <td>3.027461</td>\n      <td>20.521900</td>\n      <td>0.046796</td>\n      <td>9.241652</td>\n      <td>5.463729</td>\n      <td>4.849314</td>\n      <td>2510.15054</td>\n      <td>19.566204</td>\n      <td>3.583184</td>\n      <td>56.051303</td>\n    </tr>\n    <tr>\n      <th>min</th>\n      <td>0.000000</td>\n      <td>-7.885400</td>\n      <td>0.003505</td>\n      <td>7.219300</td>\n      <td>16.597965</td>\n      <td>0.000000</td>\n      <td>0.000000</td>\n      <td>14.000000</td>\n      <td>9.000000</td>\n      <td>5.000000</td>\n      <td>...</td>\n      <td>4.717802</td>\n      <td>17.528614</td>\n      <td>1.889152</td>\n      <td>2.414214</td>\n      <td>0.000000</td>\n      <td>0.000000</td>\n      <td>88.00000</td>\n      <td>9.000000</td>\n      <td>-2.500000</td>\n      <td>40.000000</td>\n    </tr>\n    <tr>\n      <th>25%</th>\n      <td>0.000000</td>\n      <td>-1.188975</td>\n      <td>0.577356</td>\n      <td>44.481375</td>\n      <td>50.040507</td>\n      <td>1.250000</td>\n      <td>1.250000</td>\n      <td>37.000000</td>\n      <td>21.000000</td>\n      <td>17.250000</td>\n      <td>...</td>\n      <td>6.534568</td>\n      <td>40.900764</td>\n      <td>1.967940</td>\n      <td>12.457292</td>\n      <td>7.595654</td>\n      <td>0.000000</td>\n      <td>927.25000</td>\n      <td>28.000000</td>\n      <td>2.730750</td>\n      <td>100.000000</td>\n    </tr>\n    <tr>\n      <th>50%</th>\n      <td>1.000000</td>\n      <td>-0.176850</td>\n      <td>1.514663</td>\n      <td>55.965650</td>\n      <td>59.828153</td>\n      <td>12.000000</td>\n      <td>12.000000</td>\n      <td>52.000000</td>\n      <td>28.000000</td>\n      <td>24.000000</td>\n      <td>...</td>\n      <td>7.843479</td>\n      <td>56.530962</td>\n      <td>2.003079</td>\n      <td>16.533627</td>\n      <td>10.329443</td>\n      <td>3.054602</td>\n      <td>2249.50000</td>\n      <td>44.000000</td>\n      <td>4.281000</td>\n      <td>144.000000</td>\n    </tr>\n    <tr>\n      <th>75%</th>\n      <td>1.000000</td>\n      <td>1.233900</td>\n      <td>4.219752</td>\n      <td>79.288525</td>\n      <td>73.910505</td>\n      <td>15.750000</td>\n      <td>17.000000</td>\n      <td>66.000000</td>\n      <td>32.750000</td>\n      <td>33.000000</td>\n      <td>...</td>\n      <td>8.396952</td>\n      <td>65.081421</td>\n      <td>2.034773</td>\n      <td>23.337904</td>\n      <td>12.893674</td>\n      <td>6.460240</td>\n      <td>3528.75000</td>\n      <td>51.750000</td>\n      <td>6.617500</td>\n      <td>166.000000</td>\n    </tr>\n    <tr>\n      <th>max</th>\n      <td>3.000000</td>\n      <td>7.533200</td>\n      <td>62.179533</td>\n      <td>165.089800</td>\n      <td>101.557341</td>\n      <td>24.000000</td>\n      <td>26.000000</td>\n      <td>87.000000</td>\n      <td>50.000000</td>\n      <td>58.000000</td>\n      <td>...</td>\n      <td>22.191049</td>\n      <td>102.378738</td>\n      <td>2.115324</td>\n      <td>40.323875</td>\n      <td>28.311049</td>\n      <td>19.478988</td>\n      <td>11632.00000</td>\n      <td>87.000000</td>\n      <td>14.507000</td>\n      <td>272.000000</td>\n    </tr>\n  </tbody>\n</table>\n<p>8 rows × 1444 columns</p>\n</div>"
     },
     "metadata": {},
     "execution_count": 7
    }
   ],
   "source": [
    "data.iloc[0:50].describe()"
   ]
  },
  {
   "cell_type": "code",
   "execution_count": 8,
   "metadata": {},
   "outputs": [
    {
     "output_type": "execute_result",
     "data": {
      "text/plain": [
       "           nAcid      ALogP     ALogp2         AMR        apol  naAromAtom  \\\n",
       "count  83.000000  83.000000  83.000000   83.000000   83.000000   83.000000   \n",
       "mean    0.144578  -0.055558   2.198014   71.444539   61.026563    8.096386   \n",
       "std     0.386748   1.490535   3.605325   49.605461   30.339582    6.830017   \n",
       "min     0.000000  -3.400700   0.000085   11.093500   17.945137    0.000000   \n",
       "25%     0.000000  -1.022950   0.131241   42.503450   45.692171    0.000000   \n",
       "50%     0.000000   0.023300   0.855625   61.462300   55.474204    6.000000   \n",
       "75%     0.000000   0.529250   2.500546   84.750450   66.327118   12.000000   \n",
       "max     2.000000   4.291700  18.418689  318.959400  204.858023   29.000000   \n",
       "\n",
       "       nAromBond       nAtom  nHeavyAtom          nH  ...        AMW  \\\n",
       "count  83.000000   83.000000   83.000000   83.000000  ...  83.000000   \n",
       "mean    8.265060   53.819277   27.144578   26.674699  ...   7.484337   \n",
       "std     7.076385   28.720752   12.826357   16.615529  ...   1.484015   \n",
       "min     0.000000   18.000000    9.000000    6.000000  ...   5.634078   \n",
       "25%     0.000000   40.000000   21.000000   18.500000  ...   6.343860   \n",
       "50%     6.000000   50.000000   23.000000   26.000000  ...   7.305611   \n",
       "75%    12.000000   57.000000   29.500000   29.500000  ...   8.093011   \n",
       "max    31.000000  196.000000   85.000000  111.000000  ...  12.823862   \n",
       "\n",
       "           WTPT-1     WTPT-2     WTPT-3     WTPT-4     WTPT-5         WPATH  \\\n",
       "count   83.000000  83.000000  83.000000  83.000000  83.000000     83.000000   \n",
       "mean    54.641582   2.013075  18.325765   9.601105   6.401849   3035.506024   \n",
       "std     25.432722   0.052836  11.891421   8.095113   6.807633   5428.673000   \n",
       "min     16.327527   1.814170   4.753096   0.000000   0.000000     96.000000   \n",
       "25%     41.821756   1.979460   8.646263   4.917137   0.000000    895.500000   \n",
       "50%     45.962181   2.012579  15.681640   7.861877   5.270526   1225.000000   \n",
       "75%     60.016330   2.049278  24.032189  12.591440   9.133191   2480.000000   \n",
       "max    163.824466   2.111438  64.851242  37.725169  34.517477  37337.000000   \n",
       "\n",
       "             WPOL      XLogP      Zagreb  \n",
       "count   83.000000  83.000000   83.000000  \n",
       "mean    44.554217   3.630976  142.240964  \n",
       "std     24.066601   2.707076   65.626733  \n",
       "min      8.000000  -3.628000   36.000000  \n",
       "25%     30.000000   2.011500  104.000000  \n",
       "50%     39.000000   3.451000  126.000000  \n",
       "75%     52.500000   4.890000  155.000000  \n",
       "max    150.000000  10.783000  412.000000  \n",
       "\n",
       "[8 rows x 1444 columns]"
      ],
      "text/html": "<div>\n<style scoped>\n    .dataframe tbody tr th:only-of-type {\n        vertical-align: middle;\n    }\n\n    .dataframe tbody tr th {\n        vertical-align: top;\n    }\n\n    .dataframe thead th {\n        text-align: right;\n    }\n</style>\n<table border=\"1\" class=\"dataframe\">\n  <thead>\n    <tr style=\"text-align: right;\">\n      <th></th>\n      <th>nAcid</th>\n      <th>ALogP</th>\n      <th>ALogp2</th>\n      <th>AMR</th>\n      <th>apol</th>\n      <th>naAromAtom</th>\n      <th>nAromBond</th>\n      <th>nAtom</th>\n      <th>nHeavyAtom</th>\n      <th>nH</th>\n      <th>...</th>\n      <th>AMW</th>\n      <th>WTPT-1</th>\n      <th>WTPT-2</th>\n      <th>WTPT-3</th>\n      <th>WTPT-4</th>\n      <th>WTPT-5</th>\n      <th>WPATH</th>\n      <th>WPOL</th>\n      <th>XLogP</th>\n      <th>Zagreb</th>\n    </tr>\n  </thead>\n  <tbody>\n    <tr>\n      <th>count</th>\n      <td>83.000000</td>\n      <td>83.000000</td>\n      <td>83.000000</td>\n      <td>83.000000</td>\n      <td>83.000000</td>\n      <td>83.000000</td>\n      <td>83.000000</td>\n      <td>83.000000</td>\n      <td>83.000000</td>\n      <td>83.000000</td>\n      <td>...</td>\n      <td>83.000000</td>\n      <td>83.000000</td>\n      <td>83.000000</td>\n      <td>83.000000</td>\n      <td>83.000000</td>\n      <td>83.000000</td>\n      <td>83.000000</td>\n      <td>83.000000</td>\n      <td>83.000000</td>\n      <td>83.000000</td>\n    </tr>\n    <tr>\n      <th>mean</th>\n      <td>0.144578</td>\n      <td>-0.055558</td>\n      <td>2.198014</td>\n      <td>71.444539</td>\n      <td>61.026563</td>\n      <td>8.096386</td>\n      <td>8.265060</td>\n      <td>53.819277</td>\n      <td>27.144578</td>\n      <td>26.674699</td>\n      <td>...</td>\n      <td>7.484337</td>\n      <td>54.641582</td>\n      <td>2.013075</td>\n      <td>18.325765</td>\n      <td>9.601105</td>\n      <td>6.401849</td>\n      <td>3035.506024</td>\n      <td>44.554217</td>\n      <td>3.630976</td>\n      <td>142.240964</td>\n    </tr>\n    <tr>\n      <th>std</th>\n      <td>0.386748</td>\n      <td>1.490535</td>\n      <td>3.605325</td>\n      <td>49.605461</td>\n      <td>30.339582</td>\n      <td>6.830017</td>\n      <td>7.076385</td>\n      <td>28.720752</td>\n      <td>12.826357</td>\n      <td>16.615529</td>\n      <td>...</td>\n      <td>1.484015</td>\n      <td>25.432722</td>\n      <td>0.052836</td>\n      <td>11.891421</td>\n      <td>8.095113</td>\n      <td>6.807633</td>\n      <td>5428.673000</td>\n      <td>24.066601</td>\n      <td>2.707076</td>\n      <td>65.626733</td>\n    </tr>\n    <tr>\n      <th>min</th>\n      <td>0.000000</td>\n      <td>-3.400700</td>\n      <td>0.000085</td>\n      <td>11.093500</td>\n      <td>17.945137</td>\n      <td>0.000000</td>\n      <td>0.000000</td>\n      <td>18.000000</td>\n      <td>9.000000</td>\n      <td>6.000000</td>\n      <td>...</td>\n      <td>5.634078</td>\n      <td>16.327527</td>\n      <td>1.814170</td>\n      <td>4.753096</td>\n      <td>0.000000</td>\n      <td>0.000000</td>\n      <td>96.000000</td>\n      <td>8.000000</td>\n      <td>-3.628000</td>\n      <td>36.000000</td>\n    </tr>\n    <tr>\n      <th>25%</th>\n      <td>0.000000</td>\n      <td>-1.022950</td>\n      <td>0.131241</td>\n      <td>42.503450</td>\n      <td>45.692171</td>\n      <td>0.000000</td>\n      <td>0.000000</td>\n      <td>40.000000</td>\n      <td>21.000000</td>\n      <td>18.500000</td>\n      <td>...</td>\n      <td>6.343860</td>\n      <td>41.821756</td>\n      <td>1.979460</td>\n      <td>8.646263</td>\n      <td>4.917137</td>\n      <td>0.000000</td>\n      <td>895.500000</td>\n      <td>30.000000</td>\n      <td>2.011500</td>\n      <td>104.000000</td>\n    </tr>\n    <tr>\n      <th>50%</th>\n      <td>0.000000</td>\n      <td>0.023300</td>\n      <td>0.855625</td>\n      <td>61.462300</td>\n      <td>55.474204</td>\n      <td>6.000000</td>\n      <td>6.000000</td>\n      <td>50.000000</td>\n      <td>23.000000</td>\n      <td>26.000000</td>\n      <td>...</td>\n      <td>7.305611</td>\n      <td>45.962181</td>\n      <td>2.012579</td>\n      <td>15.681640</td>\n      <td>7.861877</td>\n      <td>5.270526</td>\n      <td>1225.000000</td>\n      <td>39.000000</td>\n      <td>3.451000</td>\n      <td>126.000000</td>\n    </tr>\n    <tr>\n      <th>75%</th>\n      <td>0.000000</td>\n      <td>0.529250</td>\n      <td>2.500546</td>\n      <td>84.750450</td>\n      <td>66.327118</td>\n      <td>12.000000</td>\n      <td>12.000000</td>\n      <td>57.000000</td>\n      <td>29.500000</td>\n      <td>29.500000</td>\n      <td>...</td>\n      <td>8.093011</td>\n      <td>60.016330</td>\n      <td>2.049278</td>\n      <td>24.032189</td>\n      <td>12.591440</td>\n      <td>9.133191</td>\n      <td>2480.000000</td>\n      <td>52.500000</td>\n      <td>4.890000</td>\n      <td>155.000000</td>\n    </tr>\n    <tr>\n      <th>max</th>\n      <td>2.000000</td>\n      <td>4.291700</td>\n      <td>18.418689</td>\n      <td>318.959400</td>\n      <td>204.858023</td>\n      <td>29.000000</td>\n      <td>31.000000</td>\n      <td>196.000000</td>\n      <td>85.000000</td>\n      <td>111.000000</td>\n      <td>...</td>\n      <td>12.823862</td>\n      <td>163.824466</td>\n      <td>2.111438</td>\n      <td>64.851242</td>\n      <td>37.725169</td>\n      <td>34.517477</td>\n      <td>37337.000000</td>\n      <td>150.000000</td>\n      <td>10.783000</td>\n      <td>412.000000</td>\n    </tr>\n  </tbody>\n</table>\n<p>8 rows × 1444 columns</p>\n</div>"
     },
     "metadata": {},
     "execution_count": 8
    }
   ],
   "source": [
    "data.iloc[51:].describe()"
   ]
  },
  {
   "cell_type": "code",
   "execution_count": 9,
   "metadata": {},
   "outputs": [
    {
     "output_type": "execute_result",
     "data": {
      "text/plain": [
       "LabelEncoder()"
      ]
     },
     "metadata": {},
     "execution_count": 9
    }
   ],
   "source": [
    "from sklearn.preprocessing import LabelEncoder\n",
    "le = LabelEncoder()\n",
    "le.fit(data['Type'])"
   ]
  },
  {
   "cell_type": "code",
   "execution_count": 10,
   "metadata": {},
   "outputs": [],
   "source": [
    "data['Type'] = le.transform(data['Type'])"
   ]
  },
  {
   "cell_type": "code",
   "execution_count": 11,
   "metadata": {},
   "outputs": [],
   "source": [
    "X = data.iloc[:,1:1445]\n",
    "y = data.iloc[:,-1]"
   ]
  },
  {
   "cell_type": "code",
   "execution_count": 12,
   "metadata": {},
   "outputs": [],
   "source": [
    "\n",
    "X_train,X_test,y_train,y_test = train_test_split(X,y,test_size = 0.3,stratify = y)"
   ]
  },
  {
   "cell_type": "code",
   "execution_count": 13,
   "metadata": {},
   "outputs": [
    {
     "output_type": "execute_result",
     "data": {
      "text/plain": [
       "135.9444444"
      ]
     },
     "metadata": {},
     "execution_count": 13
    }
   ],
   "source": [
    "X_train.iloc[21]['ATS1s']"
   ]
  },
  {
   "cell_type": "code",
   "execution_count": 11,
   "metadata": {},
   "outputs": [],
   "source": []
  },
  {
   "cell_type": "code",
   "execution_count": 14,
   "metadata": {},
   "outputs": [
    {
     "output_type": "stream",
     "name": "stdout",
     "text": [
      "Accuracy: Training Set = 0.8924731182795699\nAccuracy: Test Set = 0.7804878048780488\n"
     ]
    }
   ],
   "source": [
    "# Holdout validation\n",
    "X_train,X_test,y_train,y_test = train_test_split(X,y,test_size = 0.3,stratify = y, random_state = 100)\n",
    "forest = RandomForestClassifier(n_estimators = 1000,max_features = 150,min_samples_leaf = 15,oob_score = True, random_state = 1)\n",
    "forest.fit(X_train,y_train)\n",
    "print('Accuracy: Training Set = {}'.format(forest.score(X_train,y_train)))\n",
    "print('Accuracy: Test Set = {}'.format(forest.score(X_test,y_test)))"
   ]
  },
  {
   "cell_type": "code",
   "execution_count": 18,
   "metadata": {},
   "outputs": [
    {
     "output_type": "stream",
     "name": "stdout",
     "text": [
      "0.7689458689458689 0.07833669958142776\nScores: [0.7037037  0.88888889 0.77777778 0.66666667 0.80769231]\n"
     ]
    }
   ],
   "source": [
    "# K-Fold Cross-Validation\n",
    "from sklearn.model_selection import cross_val_score\n",
    "from sklearn.model_selection import KFold\n",
    "\n",
    "kFold = KFold(n_splits=5,random_state = 10,shuffle = True)\n",
    "scores = cross_val_score(forest,X,y,cv = kFold)\n",
    "print(scores.mean(),scores.std())\n",
    "print('Scores:',scores)"
   ]
  },
  {
   "cell_type": "code",
   "execution_count": 20,
   "metadata": {},
   "outputs": [
    {
     "output_type": "display_data",
     "data": {
      "text/plain": "<Figure size 432x288 with 1 Axes>",
      "image/svg+xml": "<?xml version=\"1.0\" encoding=\"utf-8\" standalone=\"no\"?>\r\n<!DOCTYPE svg PUBLIC \"-//W3C//DTD SVG 1.1//EN\"\r\n  \"http://www.w3.org/Graphics/SVG/1.1/DTD/svg11.dtd\">\r\n<!-- Created with matplotlib (https://matplotlib.org/) -->\r\n<svg height=\"277.314375pt\" version=\"1.1\" viewBox=\"0 0 385.78125 277.314375\" width=\"385.78125pt\" xmlns=\"http://www.w3.org/2000/svg\" xmlns:xlink=\"http://www.w3.org/1999/xlink\">\r\n <defs>\r\n  <style type=\"text/css\">\r\n*{stroke-linecap:butt;stroke-linejoin:round;}\r\n  </style>\r\n </defs>\r\n <g id=\"figure_1\">\r\n  <g id=\"patch_1\">\r\n   <path d=\"M 0 277.314375 \r\nL 385.78125 277.314375 \r\nL 385.78125 0 \r\nL 0 0 \r\nz\r\n\" style=\"fill:none;\"/>\r\n  </g>\r\n  <g id=\"axes_1\">\r\n   <g id=\"patch_2\">\r\n    <path d=\"M 43.78125 239.758125 \r\nL 378.58125 239.758125 \r\nL 378.58125 22.318125 \r\nL 43.78125 22.318125 \r\nz\r\n\" style=\"fill:#ffffff;\"/>\r\n   </g>\r\n   <g id=\"PolyCollection_1\">\r\n    <defs>\r\n     <path d=\"M 58.999432 -47.439886 \r\nL 58.999432 -47.439886 \r\nL 62.073812 -107.76305 \r\nL 65.148192 -107.76305 \r\nL 68.222572 -107.76305 \r\nL 71.296952 -107.76305 \r\nL 74.371333 -107.76305 \r\nL 77.445713 -113.199276 \r\nL 80.520093 -113.199276 \r\nL 83.594473 -113.199276 \r\nL 86.668853 -113.199276 \r\nL 89.743233 -113.199276 \r\nL 92.817614 -113.199276 \r\nL 95.891994 -118.602068 \r\nL 98.966374 -127.369526 \r\nL 102.040754 -127.369526 \r\nL 105.115134 -127.369526 \r\nL 108.189514 -127.369526 \r\nL 111.263895 -127.369526 \r\nL 114.338275 -130.462432 \r\nL 117.412655 -143.772727 \r\nL 120.487035 -143.772727 \r\nL 123.561415 -143.772727 \r\nL 126.635795 -143.772727 \r\nL 129.710176 -143.772727 \r\nL 132.784556 -168.130409 \r\nL 135.858936 -177.903886 \r\nL 138.933316 -177.903886 \r\nL 142.007696 -177.903886 \r\nL 145.082076 -177.903886 \r\nL 148.156457 -177.903886 \r\nL 151.230837 -175.400363 \r\nL 154.305217 -177.622923 \r\nL 157.379597 -177.622923 \r\nL 160.453977 -177.622923 \r\nL 163.528357 -177.622923 \r\nL 166.602738 -177.622923 \r\nL 169.677118 -177.622923 \r\nL 172.751498 -177.622923 \r\nL 175.825878 -177.622923 \r\nL 178.900258 -177.622923 \r\nL 181.974638 -177.622923 \r\nL 185.049019 -193.326235 \r\nL 188.123399 -193.326235 \r\nL 191.197779 -193.326235 \r\nL 194.272159 -193.326235 \r\nL 197.346539 -193.326235 \r\nL 200.420919 -193.326235 \r\nL 203.4953 -193.326235 \r\nL 206.56968 -193.326235 \r\nL 209.64406 -193.326235 \r\nL 212.71844 -193.326235 \r\nL 215.79282 -193.326235 \r\nL 218.8672 -193.326235 \r\nL 221.941581 -193.326235 \r\nL 225.015961 -193.326235 \r\nL 228.090341 -193.326235 \r\nL 231.164721 -193.326235 \r\nL 234.239101 -193.326235 \r\nL 237.313481 -193.326235 \r\nL 240.387862 -201.624614 \r\nL 243.462242 -201.624614 \r\nL 246.536622 -201.624614 \r\nL 249.611002 -201.624614 \r\nL 252.685382 -201.624614 \r\nL 255.759762 -201.624614 \r\nL 258.834143 -223.568304 \r\nL 261.908523 -223.568304 \r\nL 264.982903 -223.568304 \r\nL 268.057283 -223.568304 \r\nL 271.131663 -223.568304 \r\nL 274.206043 -223.568304 \r\nL 277.280424 -223.568304 \r\nL 280.354804 -223.568304 \r\nL 283.429184 -223.568304 \r\nL 286.503564 -223.568304 \r\nL 289.577944 -227.521758 \r\nL 292.652324 -227.521758 \r\nL 295.726705 -227.521758 \r\nL 298.801085 -227.521758 \r\nL 301.875465 -227.521758 \r\nL 304.949845 -227.521758 \r\nL 308.024225 -227.521758 \r\nL 311.098605 -227.521758 \r\nL 314.172986 -227.521758 \r\nL 317.247366 -227.521758 \r\nL 320.321746 -227.521758 \r\nL 323.396126 -227.521758 \r\nL 326.470506 -227.521758 \r\nL 329.544886 -227.521758 \r\nL 332.619267 -227.521758 \r\nL 335.693647 -227.521758 \r\nL 338.768027 -227.521758 \r\nL 341.842407 -227.521758 \r\nL 344.916787 -227.521758 \r\nL 347.991167 -233.25225 \r\nL 351.065548 -233.25225 \r\nL 354.139928 -233.25225 \r\nL 357.214308 -233.25225 \r\nL 360.288688 -233.25225 \r\nL 363.363068 -245.112614 \r\nL 363.363068 -245.112614 \r\nL 363.363068 -245.112614 \r\nL 360.288688 -245.112614 \r\nL 357.214308 -245.112614 \r\nL 354.139928 -245.112614 \r\nL 351.065548 -245.112614 \r\nL 347.991167 -245.112614 \r\nL 344.916787 -245.112614 \r\nL 341.842407 -245.112614 \r\nL 338.768027 -245.112614 \r\nL 335.693647 -245.112614 \r\nL 332.619267 -245.112614 \r\nL 329.544886 -245.112614 \r\nL 326.470506 -245.112614 \r\nL 323.396126 -245.112614 \r\nL 320.321746 -245.112614 \r\nL 317.247366 -245.112614 \r\nL 314.172986 -245.112614 \r\nL 311.098605 -245.112614 \r\nL 308.024225 -245.112614 \r\nL 304.949845 -245.112614 \r\nL 301.875465 -245.112614 \r\nL 298.801085 -245.112614 \r\nL 295.726705 -245.112614 \r\nL 292.652324 -245.112614 \r\nL 289.577944 -245.112614 \r\nL 286.503564 -242.936196 \r\nL 283.429184 -242.936196 \r\nL 280.354804 -242.936196 \r\nL 277.280424 -242.936196 \r\nL 274.206043 -242.936196 \r\nL 271.131663 -242.936196 \r\nL 268.057283 -242.936196 \r\nL 264.982903 -242.936196 \r\nL 261.908523 -242.936196 \r\nL 258.834143 -242.936196 \r\nL 255.759762 -233.25225 \r\nL 252.685382 -233.25225 \r\nL 249.611002 -233.25225 \r\nL 246.536622 -233.25225 \r\nL 243.462242 -233.25225 \r\nL 240.387862 -233.25225 \r\nL 237.313481 -233.643719 \r\nL 234.239101 -233.643719 \r\nL 231.164721 -233.643719 \r\nL 228.090341 -233.643719 \r\nL 225.015961 -233.643719 \r\nL 221.941581 -233.643719 \r\nL 218.8672 -233.643719 \r\nL 215.79282 -233.643719 \r\nL 212.71844 -233.643719 \r\nL 209.64406 -233.643719 \r\nL 206.56968 -233.643719 \r\nL 203.4953 -233.643719 \r\nL 200.420919 -233.643719 \r\nL 197.346539 -233.643719 \r\nL 194.272159 -233.643719 \r\nL 191.197779 -233.643719 \r\nL 188.123399 -233.643719 \r\nL 185.049019 -233.643719 \r\nL 181.974638 -233.533213 \r\nL 178.900258 -233.533213 \r\nL 175.825878 -233.533213 \r\nL 172.751498 -233.533213 \r\nL 169.677118 -233.533213 \r\nL 166.602738 -233.533213 \r\nL 163.528357 -233.533213 \r\nL 160.453977 -233.533213 \r\nL 157.379597 -233.533213 \r\nL 154.305217 -233.533213 \r\nL 151.230837 -227.848864 \r\nL 148.156457 -209.531523 \r\nL 145.082076 -209.531523 \r\nL 142.007696 -209.531523 \r\nL 138.933316 -209.531523 \r\nL 135.858936 -209.531523 \r\nL 132.784556 -203.491182 \r\nL 129.710176 -196.221228 \r\nL 126.635795 -196.221228 \r\nL 123.561415 -196.221228 \r\nL 120.487035 -196.221228 \r\nL 117.412655 -196.221228 \r\nL 114.338275 -193.717705 \r\nL 111.263895 -180.996792 \r\nL 108.189514 -180.996792 \r\nL 105.115134 -180.996792 \r\nL 102.040754 -180.996792 \r\nL 98.966374 -180.996792 \r\nL 95.891994 -181.857341 \r\nL 92.817614 -179.353224 \r\nL 89.743233 -179.353224 \r\nL 86.668853 -179.353224 \r\nL 83.594473 -179.353224 \r\nL 80.520093 -179.353224 \r\nL 77.445713 -179.353224 \r\nL 74.371333 -137.347995 \r\nL 71.296952 -137.347995 \r\nL 68.222572 -137.347995 \r\nL 65.148192 -137.347995 \r\nL 62.073812 -137.347995 \r\nL 58.999432 -47.439886 \r\nz\r\n\" id=\"m6c4765d104\" style=\"stroke:#808080;stroke-opacity:0.2;\"/>\r\n    </defs>\r\n    <g clip-path=\"url(#p2f0e37b7df)\">\r\n     <use style=\"fill:#808080;fill-opacity:0.2;stroke:#808080;stroke-opacity:0.2;\" x=\"0\" xlink:href=\"#m6c4765d104\" y=\"277.314375\"/>\r\n    </g>\r\n   </g>\r\n   <g id=\"matplotlib.axis_1\">\r\n    <g id=\"xtick_1\">\r\n     <g id=\"line2d_1\">\r\n      <defs>\r\n       <path d=\"M 0 0 \r\nL 0 3.5 \r\n\" id=\"m29e1ecbd00\" style=\"stroke:#000000;stroke-width:0.8;\"/>\r\n      </defs>\r\n      <g>\r\n       <use style=\"stroke:#000000;stroke-width:0.8;\" x=\"58.999432\" xlink:href=\"#m29e1ecbd00\" y=\"239.758125\"/>\r\n      </g>\r\n     </g>\r\n     <g id=\"text_1\">\r\n      <!-- 0.0 -->\r\n      <defs>\r\n       <path d=\"M 31.78125 66.40625 \r\nQ 24.171875 66.40625 20.328125 58.90625 \r\nQ 16.5 51.421875 16.5 36.375 \r\nQ 16.5 21.390625 20.328125 13.890625 \r\nQ 24.171875 6.390625 31.78125 6.390625 \r\nQ 39.453125 6.390625 43.28125 13.890625 \r\nQ 47.125 21.390625 47.125 36.375 \r\nQ 47.125 51.421875 43.28125 58.90625 \r\nQ 39.453125 66.40625 31.78125 66.40625 \r\nz\r\nM 31.78125 74.21875 \r\nQ 44.046875 74.21875 50.515625 64.515625 \r\nQ 56.984375 54.828125 56.984375 36.375 \r\nQ 56.984375 17.96875 50.515625 8.265625 \r\nQ 44.046875 -1.421875 31.78125 -1.421875 \r\nQ 19.53125 -1.421875 13.0625 8.265625 \r\nQ 6.59375 17.96875 6.59375 36.375 \r\nQ 6.59375 54.828125 13.0625 64.515625 \r\nQ 19.53125 74.21875 31.78125 74.21875 \r\nz\r\n\" id=\"DejaVuSans-48\"/>\r\n       <path d=\"M 10.6875 12.40625 \r\nL 21 12.40625 \r\nL 21 0 \r\nL 10.6875 0 \r\nz\r\n\" id=\"DejaVuSans-46\"/>\r\n      </defs>\r\n      <g transform=\"translate(51.047869 254.356562)scale(0.1 -0.1)\">\r\n       <use xlink:href=\"#DejaVuSans-48\"/>\r\n       <use x=\"63.623047\" xlink:href=\"#DejaVuSans-46\"/>\r\n       <use x=\"95.410156\" xlink:href=\"#DejaVuSans-48\"/>\r\n      </g>\r\n     </g>\r\n    </g>\r\n    <g id=\"xtick_2\">\r\n     <g id=\"line2d_2\">\r\n      <g>\r\n       <use style=\"stroke:#000000;stroke-width:0.8;\" x=\"119.872159\" xlink:href=\"#m29e1ecbd00\" y=\"239.758125\"/>\r\n      </g>\r\n     </g>\r\n     <g id=\"text_2\">\r\n      <!-- 0.2 -->\r\n      <defs>\r\n       <path d=\"M 19.1875 8.296875 \r\nL 53.609375 8.296875 \r\nL 53.609375 0 \r\nL 7.328125 0 \r\nL 7.328125 8.296875 \r\nQ 12.9375 14.109375 22.625 23.890625 \r\nQ 32.328125 33.6875 34.8125 36.53125 \r\nQ 39.546875 41.84375 41.421875 45.53125 \r\nQ 43.3125 49.21875 43.3125 52.78125 \r\nQ 43.3125 58.59375 39.234375 62.25 \r\nQ 35.15625 65.921875 28.609375 65.921875 \r\nQ 23.96875 65.921875 18.8125 64.3125 \r\nQ 13.671875 62.703125 7.8125 59.421875 \r\nL 7.8125 69.390625 \r\nQ 13.765625 71.78125 18.9375 73 \r\nQ 24.125 74.21875 28.421875 74.21875 \r\nQ 39.75 74.21875 46.484375 68.546875 \r\nQ 53.21875 62.890625 53.21875 53.421875 \r\nQ 53.21875 48.921875 51.53125 44.890625 \r\nQ 49.859375 40.875 45.40625 35.40625 \r\nQ 44.1875 33.984375 37.640625 27.21875 \r\nQ 31.109375 20.453125 19.1875 8.296875 \r\nz\r\n\" id=\"DejaVuSans-50\"/>\r\n      </defs>\r\n      <g transform=\"translate(111.920597 254.356562)scale(0.1 -0.1)\">\r\n       <use xlink:href=\"#DejaVuSans-48\"/>\r\n       <use x=\"63.623047\" xlink:href=\"#DejaVuSans-46\"/>\r\n       <use x=\"95.410156\" xlink:href=\"#DejaVuSans-50\"/>\r\n      </g>\r\n     </g>\r\n    </g>\r\n    <g id=\"xtick_3\">\r\n     <g id=\"line2d_3\">\r\n      <g>\r\n       <use style=\"stroke:#000000;stroke-width:0.8;\" x=\"180.744886\" xlink:href=\"#m29e1ecbd00\" y=\"239.758125\"/>\r\n      </g>\r\n     </g>\r\n     <g id=\"text_3\">\r\n      <!-- 0.4 -->\r\n      <defs>\r\n       <path d=\"M 37.796875 64.3125 \r\nL 12.890625 25.390625 \r\nL 37.796875 25.390625 \r\nz\r\nM 35.203125 72.90625 \r\nL 47.609375 72.90625 \r\nL 47.609375 25.390625 \r\nL 58.015625 25.390625 \r\nL 58.015625 17.1875 \r\nL 47.609375 17.1875 \r\nL 47.609375 0 \r\nL 37.796875 0 \r\nL 37.796875 17.1875 \r\nL 4.890625 17.1875 \r\nL 4.890625 26.703125 \r\nz\r\n\" id=\"DejaVuSans-52\"/>\r\n      </defs>\r\n      <g transform=\"translate(172.793324 254.356562)scale(0.1 -0.1)\">\r\n       <use xlink:href=\"#DejaVuSans-48\"/>\r\n       <use x=\"63.623047\" xlink:href=\"#DejaVuSans-46\"/>\r\n       <use x=\"95.410156\" xlink:href=\"#DejaVuSans-52\"/>\r\n      </g>\r\n     </g>\r\n    </g>\r\n    <g id=\"xtick_4\">\r\n     <g id=\"line2d_4\">\r\n      <g>\r\n       <use style=\"stroke:#000000;stroke-width:0.8;\" x=\"241.617614\" xlink:href=\"#m29e1ecbd00\" y=\"239.758125\"/>\r\n      </g>\r\n     </g>\r\n     <g id=\"text_4\">\r\n      <!-- 0.6 -->\r\n      <defs>\r\n       <path d=\"M 33.015625 40.375 \r\nQ 26.375 40.375 22.484375 35.828125 \r\nQ 18.609375 31.296875 18.609375 23.390625 \r\nQ 18.609375 15.53125 22.484375 10.953125 \r\nQ 26.375 6.390625 33.015625 6.390625 \r\nQ 39.65625 6.390625 43.53125 10.953125 \r\nQ 47.40625 15.53125 47.40625 23.390625 \r\nQ 47.40625 31.296875 43.53125 35.828125 \r\nQ 39.65625 40.375 33.015625 40.375 \r\nz\r\nM 52.59375 71.296875 \r\nL 52.59375 62.3125 \r\nQ 48.875 64.0625 45.09375 64.984375 \r\nQ 41.3125 65.921875 37.59375 65.921875 \r\nQ 27.828125 65.921875 22.671875 59.328125 \r\nQ 17.53125 52.734375 16.796875 39.40625 \r\nQ 19.671875 43.65625 24.015625 45.921875 \r\nQ 28.375 48.1875 33.59375 48.1875 \r\nQ 44.578125 48.1875 50.953125 41.515625 \r\nQ 57.328125 34.859375 57.328125 23.390625 \r\nQ 57.328125 12.15625 50.6875 5.359375 \r\nQ 44.046875 -1.421875 33.015625 -1.421875 \r\nQ 20.359375 -1.421875 13.671875 8.265625 \r\nQ 6.984375 17.96875 6.984375 36.375 \r\nQ 6.984375 53.65625 15.1875 63.9375 \r\nQ 23.390625 74.21875 37.203125 74.21875 \r\nQ 40.921875 74.21875 44.703125 73.484375 \r\nQ 48.484375 72.75 52.59375 71.296875 \r\nz\r\n\" id=\"DejaVuSans-54\"/>\r\n      </defs>\r\n      <g transform=\"translate(233.666051 254.356562)scale(0.1 -0.1)\">\r\n       <use xlink:href=\"#DejaVuSans-48\"/>\r\n       <use x=\"63.623047\" xlink:href=\"#DejaVuSans-46\"/>\r\n       <use x=\"95.410156\" xlink:href=\"#DejaVuSans-54\"/>\r\n      </g>\r\n     </g>\r\n    </g>\r\n    <g id=\"xtick_5\">\r\n     <g id=\"line2d_5\">\r\n      <g>\r\n       <use style=\"stroke:#000000;stroke-width:0.8;\" x=\"302.490341\" xlink:href=\"#m29e1ecbd00\" y=\"239.758125\"/>\r\n      </g>\r\n     </g>\r\n     <g id=\"text_5\">\r\n      <!-- 0.8 -->\r\n      <defs>\r\n       <path d=\"M 31.78125 34.625 \r\nQ 24.75 34.625 20.71875 30.859375 \r\nQ 16.703125 27.09375 16.703125 20.515625 \r\nQ 16.703125 13.921875 20.71875 10.15625 \r\nQ 24.75 6.390625 31.78125 6.390625 \r\nQ 38.8125 6.390625 42.859375 10.171875 \r\nQ 46.921875 13.96875 46.921875 20.515625 \r\nQ 46.921875 27.09375 42.890625 30.859375 \r\nQ 38.875 34.625 31.78125 34.625 \r\nz\r\nM 21.921875 38.8125 \r\nQ 15.578125 40.375 12.03125 44.71875 \r\nQ 8.5 49.078125 8.5 55.328125 \r\nQ 8.5 64.0625 14.71875 69.140625 \r\nQ 20.953125 74.21875 31.78125 74.21875 \r\nQ 42.671875 74.21875 48.875 69.140625 \r\nQ 55.078125 64.0625 55.078125 55.328125 \r\nQ 55.078125 49.078125 51.53125 44.71875 \r\nQ 48 40.375 41.703125 38.8125 \r\nQ 48.828125 37.15625 52.796875 32.3125 \r\nQ 56.78125 27.484375 56.78125 20.515625 \r\nQ 56.78125 9.90625 50.3125 4.234375 \r\nQ 43.84375 -1.421875 31.78125 -1.421875 \r\nQ 19.734375 -1.421875 13.25 4.234375 \r\nQ 6.78125 9.90625 6.78125 20.515625 \r\nQ 6.78125 27.484375 10.78125 32.3125 \r\nQ 14.796875 37.15625 21.921875 38.8125 \r\nz\r\nM 18.3125 54.390625 \r\nQ 18.3125 48.734375 21.84375 45.5625 \r\nQ 25.390625 42.390625 31.78125 42.390625 \r\nQ 38.140625 42.390625 41.71875 45.5625 \r\nQ 45.3125 48.734375 45.3125 54.390625 \r\nQ 45.3125 60.0625 41.71875 63.234375 \r\nQ 38.140625 66.40625 31.78125 66.40625 \r\nQ 25.390625 66.40625 21.84375 63.234375 \r\nQ 18.3125 60.0625 18.3125 54.390625 \r\nz\r\n\" id=\"DejaVuSans-56\"/>\r\n      </defs>\r\n      <g transform=\"translate(294.538778 254.356562)scale(0.1 -0.1)\">\r\n       <use xlink:href=\"#DejaVuSans-48\"/>\r\n       <use x=\"63.623047\" xlink:href=\"#DejaVuSans-46\"/>\r\n       <use x=\"95.410156\" xlink:href=\"#DejaVuSans-56\"/>\r\n      </g>\r\n     </g>\r\n    </g>\r\n    <g id=\"xtick_6\">\r\n     <g id=\"line2d_6\">\r\n      <g>\r\n       <use style=\"stroke:#000000;stroke-width:0.8;\" x=\"363.363068\" xlink:href=\"#m29e1ecbd00\" y=\"239.758125\"/>\r\n      </g>\r\n     </g>\r\n     <g id=\"text_6\">\r\n      <!-- 1.0 -->\r\n      <defs>\r\n       <path d=\"M 12.40625 8.296875 \r\nL 28.515625 8.296875 \r\nL 28.515625 63.921875 \r\nL 10.984375 60.40625 \r\nL 10.984375 69.390625 \r\nL 28.421875 72.90625 \r\nL 38.28125 72.90625 \r\nL 38.28125 8.296875 \r\nL 54.390625 8.296875 \r\nL 54.390625 0 \r\nL 12.40625 0 \r\nz\r\n\" id=\"DejaVuSans-49\"/>\r\n      </defs>\r\n      <g transform=\"translate(355.411506 254.356562)scale(0.1 -0.1)\">\r\n       <use xlink:href=\"#DejaVuSans-49\"/>\r\n       <use x=\"63.623047\" xlink:href=\"#DejaVuSans-46\"/>\r\n       <use x=\"95.410156\" xlink:href=\"#DejaVuSans-48\"/>\r\n      </g>\r\n     </g>\r\n    </g>\r\n    <g id=\"text_7\">\r\n     <!-- False Positive Rate -->\r\n     <defs>\r\n      <path d=\"M 9.8125 72.90625 \r\nL 51.703125 72.90625 \r\nL 51.703125 64.59375 \r\nL 19.671875 64.59375 \r\nL 19.671875 43.109375 \r\nL 48.578125 43.109375 \r\nL 48.578125 34.8125 \r\nL 19.671875 34.8125 \r\nL 19.671875 0 \r\nL 9.8125 0 \r\nz\r\n\" id=\"DejaVuSans-70\"/>\r\n      <path d=\"M 34.28125 27.484375 \r\nQ 23.390625 27.484375 19.1875 25 \r\nQ 14.984375 22.515625 14.984375 16.5 \r\nQ 14.984375 11.71875 18.140625 8.90625 \r\nQ 21.296875 6.109375 26.703125 6.109375 \r\nQ 34.1875 6.109375 38.703125 11.40625 \r\nQ 43.21875 16.703125 43.21875 25.484375 \r\nL 43.21875 27.484375 \r\nz\r\nM 52.203125 31.203125 \r\nL 52.203125 0 \r\nL 43.21875 0 \r\nL 43.21875 8.296875 \r\nQ 40.140625 3.328125 35.546875 0.953125 \r\nQ 30.953125 -1.421875 24.3125 -1.421875 \r\nQ 15.921875 -1.421875 10.953125 3.296875 \r\nQ 6 8.015625 6 15.921875 \r\nQ 6 25.140625 12.171875 29.828125 \r\nQ 18.359375 34.515625 30.609375 34.515625 \r\nL 43.21875 34.515625 \r\nL 43.21875 35.40625 \r\nQ 43.21875 41.609375 39.140625 45 \r\nQ 35.0625 48.390625 27.6875 48.390625 \r\nQ 23 48.390625 18.546875 47.265625 \r\nQ 14.109375 46.140625 10.015625 43.890625 \r\nL 10.015625 52.203125 \r\nQ 14.9375 54.109375 19.578125 55.046875 \r\nQ 24.21875 56 28.609375 56 \r\nQ 40.484375 56 46.34375 49.84375 \r\nQ 52.203125 43.703125 52.203125 31.203125 \r\nz\r\n\" id=\"DejaVuSans-97\"/>\r\n      <path d=\"M 9.421875 75.984375 \r\nL 18.40625 75.984375 \r\nL 18.40625 0 \r\nL 9.421875 0 \r\nz\r\n\" id=\"DejaVuSans-108\"/>\r\n      <path d=\"M 44.28125 53.078125 \r\nL 44.28125 44.578125 \r\nQ 40.484375 46.53125 36.375 47.5 \r\nQ 32.28125 48.484375 27.875 48.484375 \r\nQ 21.1875 48.484375 17.84375 46.4375 \r\nQ 14.5 44.390625 14.5 40.28125 \r\nQ 14.5 37.15625 16.890625 35.375 \r\nQ 19.28125 33.59375 26.515625 31.984375 \r\nL 29.59375 31.296875 \r\nQ 39.15625 29.25 43.1875 25.515625 \r\nQ 47.21875 21.78125 47.21875 15.09375 \r\nQ 47.21875 7.46875 41.1875 3.015625 \r\nQ 35.15625 -1.421875 24.609375 -1.421875 \r\nQ 20.21875 -1.421875 15.453125 -0.5625 \r\nQ 10.6875 0.296875 5.421875 2 \r\nL 5.421875 11.28125 \r\nQ 10.40625 8.6875 15.234375 7.390625 \r\nQ 20.0625 6.109375 24.8125 6.109375 \r\nQ 31.15625 6.109375 34.5625 8.28125 \r\nQ 37.984375 10.453125 37.984375 14.40625 \r\nQ 37.984375 18.0625 35.515625 20.015625 \r\nQ 33.0625 21.96875 24.703125 23.78125 \r\nL 21.578125 24.515625 \r\nQ 13.234375 26.265625 9.515625 29.90625 \r\nQ 5.8125 33.546875 5.8125 39.890625 \r\nQ 5.8125 47.609375 11.28125 51.796875 \r\nQ 16.75 56 26.8125 56 \r\nQ 31.78125 56 36.171875 55.265625 \r\nQ 40.578125 54.546875 44.28125 53.078125 \r\nz\r\n\" id=\"DejaVuSans-115\"/>\r\n      <path d=\"M 56.203125 29.59375 \r\nL 56.203125 25.203125 \r\nL 14.890625 25.203125 \r\nQ 15.484375 15.921875 20.484375 11.0625 \r\nQ 25.484375 6.203125 34.421875 6.203125 \r\nQ 39.59375 6.203125 44.453125 7.46875 \r\nQ 49.3125 8.734375 54.109375 11.28125 \r\nL 54.109375 2.78125 \r\nQ 49.265625 0.734375 44.1875 -0.34375 \r\nQ 39.109375 -1.421875 33.890625 -1.421875 \r\nQ 20.796875 -1.421875 13.15625 6.1875 \r\nQ 5.515625 13.8125 5.515625 26.8125 \r\nQ 5.515625 40.234375 12.765625 48.109375 \r\nQ 20.015625 56 32.328125 56 \r\nQ 43.359375 56 49.78125 48.890625 \r\nQ 56.203125 41.796875 56.203125 29.59375 \r\nz\r\nM 47.21875 32.234375 \r\nQ 47.125 39.59375 43.09375 43.984375 \r\nQ 39.0625 48.390625 32.421875 48.390625 \r\nQ 24.90625 48.390625 20.390625 44.140625 \r\nQ 15.875 39.890625 15.1875 32.171875 \r\nz\r\n\" id=\"DejaVuSans-101\"/>\r\n      <path id=\"DejaVuSans-32\"/>\r\n      <path d=\"M 19.671875 64.796875 \r\nL 19.671875 37.40625 \r\nL 32.078125 37.40625 \r\nQ 38.96875 37.40625 42.71875 40.96875 \r\nQ 46.484375 44.53125 46.484375 51.125 \r\nQ 46.484375 57.671875 42.71875 61.234375 \r\nQ 38.96875 64.796875 32.078125 64.796875 \r\nz\r\nM 9.8125 72.90625 \r\nL 32.078125 72.90625 \r\nQ 44.34375 72.90625 50.609375 67.359375 \r\nQ 56.890625 61.8125 56.890625 51.125 \r\nQ 56.890625 40.328125 50.609375 34.8125 \r\nQ 44.34375 29.296875 32.078125 29.296875 \r\nL 19.671875 29.296875 \r\nL 19.671875 0 \r\nL 9.8125 0 \r\nz\r\n\" id=\"DejaVuSans-80\"/>\r\n      <path d=\"M 30.609375 48.390625 \r\nQ 23.390625 48.390625 19.1875 42.75 \r\nQ 14.984375 37.109375 14.984375 27.296875 \r\nQ 14.984375 17.484375 19.15625 11.84375 \r\nQ 23.34375 6.203125 30.609375 6.203125 \r\nQ 37.796875 6.203125 41.984375 11.859375 \r\nQ 46.1875 17.53125 46.1875 27.296875 \r\nQ 46.1875 37.015625 41.984375 42.703125 \r\nQ 37.796875 48.390625 30.609375 48.390625 \r\nz\r\nM 30.609375 56 \r\nQ 42.328125 56 49.015625 48.375 \r\nQ 55.71875 40.765625 55.71875 27.296875 \r\nQ 55.71875 13.875 49.015625 6.21875 \r\nQ 42.328125 -1.421875 30.609375 -1.421875 \r\nQ 18.84375 -1.421875 12.171875 6.21875 \r\nQ 5.515625 13.875 5.515625 27.296875 \r\nQ 5.515625 40.765625 12.171875 48.375 \r\nQ 18.84375 56 30.609375 56 \r\nz\r\n\" id=\"DejaVuSans-111\"/>\r\n      <path d=\"M 9.421875 54.6875 \r\nL 18.40625 54.6875 \r\nL 18.40625 0 \r\nL 9.421875 0 \r\nz\r\nM 9.421875 75.984375 \r\nL 18.40625 75.984375 \r\nL 18.40625 64.59375 \r\nL 9.421875 64.59375 \r\nz\r\n\" id=\"DejaVuSans-105\"/>\r\n      <path d=\"M 18.3125 70.21875 \r\nL 18.3125 54.6875 \r\nL 36.8125 54.6875 \r\nL 36.8125 47.703125 \r\nL 18.3125 47.703125 \r\nL 18.3125 18.015625 \r\nQ 18.3125 11.328125 20.140625 9.421875 \r\nQ 21.96875 7.515625 27.59375 7.515625 \r\nL 36.8125 7.515625 \r\nL 36.8125 0 \r\nL 27.59375 0 \r\nQ 17.1875 0 13.234375 3.875 \r\nQ 9.28125 7.765625 9.28125 18.015625 \r\nL 9.28125 47.703125 \r\nL 2.6875 47.703125 \r\nL 2.6875 54.6875 \r\nL 9.28125 54.6875 \r\nL 9.28125 70.21875 \r\nz\r\n\" id=\"DejaVuSans-116\"/>\r\n      <path d=\"M 2.984375 54.6875 \r\nL 12.5 54.6875 \r\nL 29.59375 8.796875 \r\nL 46.6875 54.6875 \r\nL 56.203125 54.6875 \r\nL 35.6875 0 \r\nL 23.484375 0 \r\nz\r\n\" id=\"DejaVuSans-118\"/>\r\n      <path d=\"M 44.390625 34.1875 \r\nQ 47.5625 33.109375 50.5625 29.59375 \r\nQ 53.5625 26.078125 56.59375 19.921875 \r\nL 66.609375 0 \r\nL 56 0 \r\nL 46.6875 18.703125 \r\nQ 43.0625 26.03125 39.671875 28.421875 \r\nQ 36.28125 30.8125 30.421875 30.8125 \r\nL 19.671875 30.8125 \r\nL 19.671875 0 \r\nL 9.8125 0 \r\nL 9.8125 72.90625 \r\nL 32.078125 72.90625 \r\nQ 44.578125 72.90625 50.734375 67.671875 \r\nQ 56.890625 62.453125 56.890625 51.90625 \r\nQ 56.890625 45.015625 53.6875 40.46875 \r\nQ 50.484375 35.9375 44.390625 34.1875 \r\nz\r\nM 19.671875 64.796875 \r\nL 19.671875 38.921875 \r\nL 32.078125 38.921875 \r\nQ 39.203125 38.921875 42.84375 42.21875 \r\nQ 46.484375 45.515625 46.484375 51.90625 \r\nQ 46.484375 58.296875 42.84375 61.546875 \r\nQ 39.203125 64.796875 32.078125 64.796875 \r\nz\r\n\" id=\"DejaVuSans-82\"/>\r\n     </defs>\r\n     <g transform=\"translate(163.975781 268.034687)scale(0.1 -0.1)\">\r\n      <use xlink:href=\"#DejaVuSans-70\"/>\r\n      <use x=\"57.378906\" xlink:href=\"#DejaVuSans-97\"/>\r\n      <use x=\"118.658203\" xlink:href=\"#DejaVuSans-108\"/>\r\n      <use x=\"146.441406\" xlink:href=\"#DejaVuSans-115\"/>\r\n      <use x=\"198.541016\" xlink:href=\"#DejaVuSans-101\"/>\r\n      <use x=\"260.064453\" xlink:href=\"#DejaVuSans-32\"/>\r\n      <use x=\"291.851562\" xlink:href=\"#DejaVuSans-80\"/>\r\n      <use x=\"352.107422\" xlink:href=\"#DejaVuSans-111\"/>\r\n      <use x=\"413.289062\" xlink:href=\"#DejaVuSans-115\"/>\r\n      <use x=\"465.388672\" xlink:href=\"#DejaVuSans-105\"/>\r\n      <use x=\"493.171875\" xlink:href=\"#DejaVuSans-116\"/>\r\n      <use x=\"532.380859\" xlink:href=\"#DejaVuSans-105\"/>\r\n      <use x=\"560.164062\" xlink:href=\"#DejaVuSans-118\"/>\r\n      <use x=\"619.34375\" xlink:href=\"#DejaVuSans-101\"/>\r\n      <use x=\"680.867188\" xlink:href=\"#DejaVuSans-32\"/>\r\n      <use x=\"712.654297\" xlink:href=\"#DejaVuSans-82\"/>\r\n      <use x=\"782.105469\" xlink:href=\"#DejaVuSans-97\"/>\r\n      <use x=\"843.384766\" xlink:href=\"#DejaVuSans-116\"/>\r\n      <use x=\"882.59375\" xlink:href=\"#DejaVuSans-101\"/>\r\n     </g>\r\n    </g>\r\n   </g>\r\n   <g id=\"matplotlib.axis_2\">\r\n    <g id=\"ytick_1\">\r\n     <g id=\"line2d_7\">\r\n      <defs>\r\n       <path d=\"M 0 0 \r\nL -3.5 0 \r\n\" id=\"m6f9377ab56\" style=\"stroke:#000000;stroke-width:0.8;\"/>\r\n      </defs>\r\n      <g>\r\n       <use style=\"stroke:#000000;stroke-width:0.8;\" x=\"43.78125\" xlink:href=\"#m6f9377ab56\" y=\"229.874489\"/>\r\n      </g>\r\n     </g>\r\n     <g id=\"text_8\">\r\n      <!-- 0.0 -->\r\n      <g transform=\"translate(20.878125 233.673707)scale(0.1 -0.1)\">\r\n       <use xlink:href=\"#DejaVuSans-48\"/>\r\n       <use x=\"63.623047\" xlink:href=\"#DejaVuSans-46\"/>\r\n       <use x=\"95.410156\" xlink:href=\"#DejaVuSans-48\"/>\r\n      </g>\r\n     </g>\r\n    </g>\r\n    <g id=\"ytick_2\">\r\n     <g id=\"line2d_8\">\r\n      <g>\r\n       <use style=\"stroke:#000000;stroke-width:0.8;\" x=\"43.78125\" xlink:href=\"#m6f9377ab56\" y=\"190.339943\"/>\r\n      </g>\r\n     </g>\r\n     <g id=\"text_9\">\r\n      <!-- 0.2 -->\r\n      <g transform=\"translate(20.878125 194.139162)scale(0.1 -0.1)\">\r\n       <use xlink:href=\"#DejaVuSans-48\"/>\r\n       <use x=\"63.623047\" xlink:href=\"#DejaVuSans-46\"/>\r\n       <use x=\"95.410156\" xlink:href=\"#DejaVuSans-50\"/>\r\n      </g>\r\n     </g>\r\n    </g>\r\n    <g id=\"ytick_3\">\r\n     <g id=\"line2d_9\">\r\n      <g>\r\n       <use style=\"stroke:#000000;stroke-width:0.8;\" x=\"43.78125\" xlink:href=\"#m6f9377ab56\" y=\"150.805398\"/>\r\n      </g>\r\n     </g>\r\n     <g id=\"text_10\">\r\n      <!-- 0.4 -->\r\n      <g transform=\"translate(20.878125 154.604616)scale(0.1 -0.1)\">\r\n       <use xlink:href=\"#DejaVuSans-48\"/>\r\n       <use x=\"63.623047\" xlink:href=\"#DejaVuSans-46\"/>\r\n       <use x=\"95.410156\" xlink:href=\"#DejaVuSans-52\"/>\r\n      </g>\r\n     </g>\r\n    </g>\r\n    <g id=\"ytick_4\">\r\n     <g id=\"line2d_10\">\r\n      <g>\r\n       <use style=\"stroke:#000000;stroke-width:0.8;\" x=\"43.78125\" xlink:href=\"#m6f9377ab56\" y=\"111.270852\"/>\r\n      </g>\r\n     </g>\r\n     <g id=\"text_11\">\r\n      <!-- 0.6 -->\r\n      <g transform=\"translate(20.878125 115.070071)scale(0.1 -0.1)\">\r\n       <use xlink:href=\"#DejaVuSans-48\"/>\r\n       <use x=\"63.623047\" xlink:href=\"#DejaVuSans-46\"/>\r\n       <use x=\"95.410156\" xlink:href=\"#DejaVuSans-54\"/>\r\n      </g>\r\n     </g>\r\n    </g>\r\n    <g id=\"ytick_5\">\r\n     <g id=\"line2d_11\">\r\n      <g>\r\n       <use style=\"stroke:#000000;stroke-width:0.8;\" x=\"43.78125\" xlink:href=\"#m6f9377ab56\" y=\"71.736307\"/>\r\n      </g>\r\n     </g>\r\n     <g id=\"text_12\">\r\n      <!-- 0.8 -->\r\n      <g transform=\"translate(20.878125 75.535526)scale(0.1 -0.1)\">\r\n       <use xlink:href=\"#DejaVuSans-48\"/>\r\n       <use x=\"63.623047\" xlink:href=\"#DejaVuSans-46\"/>\r\n       <use x=\"95.410156\" xlink:href=\"#DejaVuSans-56\"/>\r\n      </g>\r\n     </g>\r\n    </g>\r\n    <g id=\"ytick_6\">\r\n     <g id=\"line2d_12\">\r\n      <g>\r\n       <use style=\"stroke:#000000;stroke-width:0.8;\" x=\"43.78125\" xlink:href=\"#m6f9377ab56\" y=\"32.201761\"/>\r\n      </g>\r\n     </g>\r\n     <g id=\"text_13\">\r\n      <!-- 1.0 -->\r\n      <g transform=\"translate(20.878125 36.00098)scale(0.1 -0.1)\">\r\n       <use xlink:href=\"#DejaVuSans-49\"/>\r\n       <use x=\"63.623047\" xlink:href=\"#DejaVuSans-46\"/>\r\n       <use x=\"95.410156\" xlink:href=\"#DejaVuSans-48\"/>\r\n      </g>\r\n     </g>\r\n    </g>\r\n    <g id=\"text_14\">\r\n     <!-- True Positive Rate -->\r\n     <defs>\r\n      <path d=\"M -0.296875 72.90625 \r\nL 61.375 72.90625 \r\nL 61.375 64.59375 \r\nL 35.5 64.59375 \r\nL 35.5 0 \r\nL 25.59375 0 \r\nL 25.59375 64.59375 \r\nL -0.296875 64.59375 \r\nz\r\n\" id=\"DejaVuSans-84\"/>\r\n      <path d=\"M 41.109375 46.296875 \r\nQ 39.59375 47.171875 37.8125 47.578125 \r\nQ 36.03125 48 33.890625 48 \r\nQ 26.265625 48 22.1875 43.046875 \r\nQ 18.109375 38.09375 18.109375 28.8125 \r\nL 18.109375 0 \r\nL 9.078125 0 \r\nL 9.078125 54.6875 \r\nL 18.109375 54.6875 \r\nL 18.109375 46.1875 \r\nQ 20.953125 51.171875 25.484375 53.578125 \r\nQ 30.03125 56 36.53125 56 \r\nQ 37.453125 56 38.578125 55.875 \r\nQ 39.703125 55.765625 41.0625 55.515625 \r\nz\r\n\" id=\"DejaVuSans-114\"/>\r\n      <path d=\"M 8.5 21.578125 \r\nL 8.5 54.6875 \r\nL 17.484375 54.6875 \r\nL 17.484375 21.921875 \r\nQ 17.484375 14.15625 20.5 10.265625 \r\nQ 23.53125 6.390625 29.59375 6.390625 \r\nQ 36.859375 6.390625 41.078125 11.03125 \r\nQ 45.3125 15.671875 45.3125 23.6875 \r\nL 45.3125 54.6875 \r\nL 54.296875 54.6875 \r\nL 54.296875 0 \r\nL 45.3125 0 \r\nL 45.3125 8.40625 \r\nQ 42.046875 3.421875 37.71875 1 \r\nQ 33.40625 -1.421875 27.6875 -1.421875 \r\nQ 18.265625 -1.421875 13.375 4.4375 \r\nQ 8.5 10.296875 8.5 21.578125 \r\nz\r\nM 31.109375 56 \r\nz\r\n\" id=\"DejaVuSans-117\"/>\r\n     </defs>\r\n     <g transform=\"translate(14.798438 176.584219)rotate(-90)scale(0.1 -0.1)\">\r\n      <use xlink:href=\"#DejaVuSans-84\"/>\r\n      <use x=\"60.865234\" xlink:href=\"#DejaVuSans-114\"/>\r\n      <use x=\"101.978516\" xlink:href=\"#DejaVuSans-117\"/>\r\n      <use x=\"165.357422\" xlink:href=\"#DejaVuSans-101\"/>\r\n      <use x=\"226.880859\" xlink:href=\"#DejaVuSans-32\"/>\r\n      <use x=\"258.667969\" xlink:href=\"#DejaVuSans-80\"/>\r\n      <use x=\"318.923828\" xlink:href=\"#DejaVuSans-111\"/>\r\n      <use x=\"380.105469\" xlink:href=\"#DejaVuSans-115\"/>\r\n      <use x=\"432.205078\" xlink:href=\"#DejaVuSans-105\"/>\r\n      <use x=\"459.988281\" xlink:href=\"#DejaVuSans-116\"/>\r\n      <use x=\"499.197266\" xlink:href=\"#DejaVuSans-105\"/>\r\n      <use x=\"526.980469\" xlink:href=\"#DejaVuSans-118\"/>\r\n      <use x=\"586.160156\" xlink:href=\"#DejaVuSans-101\"/>\r\n      <use x=\"647.683594\" xlink:href=\"#DejaVuSans-32\"/>\r\n      <use x=\"679.470703\" xlink:href=\"#DejaVuSans-82\"/>\r\n      <use x=\"748.921875\" xlink:href=\"#DejaVuSans-97\"/>\r\n      <use x=\"810.201172\" xlink:href=\"#DejaVuSans-116\"/>\r\n      <use x=\"849.410156\" xlink:href=\"#DejaVuSans-101\"/>\r\n     </g>\r\n    </g>\r\n   </g>\r\n   <g id=\"line2d_13\">\r\n    <path clip-path=\"url(#p2f0e37b7df)\" d=\"M 58.999432 229.874489 \r\nL 58.999432 210.107216 \r\nL 58.999432 150.805398 \r\nL 130.614405 150.805398 \r\nL 130.614405 111.270852 \r\nL 184.325635 111.270852 \r\nL 184.325635 91.50358 \r\nL 238.036865 91.50358 \r\nL 238.036865 71.736307 \r\nL 255.940608 71.736307 \r\nL 255.940608 51.969034 \r\nL 363.363068 51.969034 \r\nL 363.363068 32.201761 \r\n\" style=\"fill:none;stroke:#1f77b4;stroke-linecap:square;stroke-opacity:0.3;\"/>\r\n   </g>\r\n   <g id=\"line2d_14\">\r\n    <path clip-path=\"url(#p2f0e37b7df)\" d=\"M 58.999432 229.874489 \r\nL 58.999432 210.107216 \r\nL 58.999432 170.57267 \r\nL 76.903175 170.57267 \r\nL 76.903175 150.805398 \r\nL 94.806918 150.805398 \r\nL 94.806918 131.038125 \r\nL 112.710662 131.038125 \r\nL 112.710662 111.270852 \r\nL 130.614405 111.270852 \r\nL 130.614405 71.736307 \r\nL 148.518148 71.736307 \r\nL 148.518148 32.201761 \r\nL 363.363068 32.201761 \r\n\" style=\"fill:none;stroke:#ff7f0e;stroke-linecap:square;stroke-opacity:0.3;\"/>\r\n   </g>\r\n   <g id=\"line2d_15\">\r\n    <path clip-path=\"url(#p2f0e37b7df)\" d=\"M 58.999432 229.874489 \r\nL 58.999432 210.107216 \r\nL 58.999432 150.805398 \r\nL 76.903175 150.805398 \r\nL 76.903175 91.50358 \r\nL 130.614405 91.50358 \r\nL 166.421892 91.50358 \r\nL 184.325635 91.50358 \r\nL 184.325635 71.736307 \r\nL 255.940608 71.736307 \r\nL 255.940608 51.969034 \r\nL 345.459325 51.969034 \r\nL 345.459325 32.201761 \r\nL 363.363068 32.201761 \r\n\" style=\"fill:none;stroke:#2ca02c;stroke-linecap:square;stroke-opacity:0.3;\"/>\r\n   </g>\r\n   <g id=\"line2d_16\">\r\n    <path clip-path=\"url(#p2f0e37b7df)\" d=\"M 58.999432 229.874489 \r\nL 58.999432 210.107216 \r\nL 58.999432 131.038125 \r\nL 76.903175 131.038125 \r\nL 76.903175 91.50358 \r\nL 112.710662 91.50358 \r\nL 112.710662 71.736307 \r\nL 255.940608 71.736307 \r\nL 255.940608 32.201761 \r\nL 363.363068 32.201761 \r\n\" style=\"fill:none;stroke:#d62728;stroke-linecap:square;stroke-opacity:0.3;\"/>\r\n   </g>\r\n   <g id=\"line2d_17\">\r\n    <path clip-path=\"url(#p2f0e37b7df)\" d=\"M 58.999432 229.874489 \r\nL 58.999432 210.107216 \r\nL 58.999432 170.57267 \r\nL 97.044886 170.57267 \r\nL 97.044886 150.805398 \r\nL 116.067614 150.805398 \r\nL 116.067614 111.270852 \r\nL 135.090341 111.270852 \r\nL 135.090341 71.736307 \r\nL 154.113068 71.736307 \r\nL 154.113068 51.969034 \r\nL 287.272159 51.969034 \r\nL 287.272159 32.201761 \r\nL 363.363068 32.201761 \r\n\" style=\"fill:none;stroke:#9467bd;stroke-linecap:square;stroke-opacity:0.3;\"/>\r\n   </g>\r\n   <g id=\"line2d_18\">\r\n    <path clip-path=\"url(#p2f0e37b7df)\" d=\"M 58.999432 229.874489 \r\nL 363.363068 32.201761 \r\n\" style=\"fill:none;stroke:#ff0000;stroke-dasharray:7.4,3.2;stroke-dashoffset:0;stroke-opacity:0.8;stroke-width:2;\"/>\r\n   </g>\r\n   <g id=\"line2d_19\">\r\n    <path clip-path=\"url(#p2f0e37b7df)\" d=\"M 58.999432 229.874489 \r\nL 62.073812 154.758852 \r\nL 65.148192 154.758852 \r\nL 68.222572 154.758852 \r\nL 71.296952 154.758852 \r\nL 74.371333 154.758852 \r\nL 77.445713 131.038125 \r\nL 80.520093 131.038125 \r\nL 83.594473 131.038125 \r\nL 86.668853 131.038125 \r\nL 89.743233 131.038125 \r\nL 92.817614 131.038125 \r\nL 95.891994 127.08467 \r\nL 98.966374 123.131216 \r\nL 102.040754 123.131216 \r\nL 105.115134 123.131216 \r\nL 108.189514 123.131216 \r\nL 111.263895 123.131216 \r\nL 114.338275 115.224307 \r\nL 117.412655 107.317398 \r\nL 120.487035 107.317398 \r\nL 123.561415 107.317398 \r\nL 126.635795 107.317398 \r\nL 129.710176 107.317398 \r\nL 132.784556 91.50358 \r\nL 135.858936 83.59667 \r\nL 138.933316 83.59667 \r\nL 142.007696 83.59667 \r\nL 145.082076 83.59667 \r\nL 148.156457 83.59667 \r\nL 151.230837 75.689761 \r\nL 154.305217 71.736307 \r\nL 157.379597 71.736307 \r\nL 160.453977 71.736307 \r\nL 163.528357 71.736307 \r\nL 166.602738 71.736307 \r\nL 169.677118 71.736307 \r\nL 172.751498 71.736307 \r\nL 175.825878 71.736307 \r\nL 178.900258 71.736307 \r\nL 181.974638 71.736307 \r\nL 185.049019 63.829398 \r\nL 188.123399 63.829398 \r\nL 191.197779 63.829398 \r\nL 194.272159 63.829398 \r\nL 197.346539 63.829398 \r\nL 200.420919 63.829398 \r\nL 203.4953 63.829398 \r\nL 206.56968 63.829398 \r\nL 209.64406 63.829398 \r\nL 212.71844 63.829398 \r\nL 215.79282 63.829398 \r\nL 218.8672 63.829398 \r\nL 221.941581 63.829398 \r\nL 225.015961 63.829398 \r\nL 228.090341 63.829398 \r\nL 231.164721 63.829398 \r\nL 234.239101 63.829398 \r\nL 237.313481 63.829398 \r\nL 240.387862 59.875943 \r\nL 243.462242 59.875943 \r\nL 246.536622 59.875943 \r\nL 249.611002 59.875943 \r\nL 252.685382 59.875943 \r\nL 255.759762 59.875943 \r\nL 258.834143 44.062125 \r\nL 261.908523 44.062125 \r\nL 264.982903 44.062125 \r\nL 268.057283 44.062125 \r\nL 271.131663 44.062125 \r\nL 274.206043 44.062125 \r\nL 277.280424 44.062125 \r\nL 280.354804 44.062125 \r\nL 283.429184 44.062125 \r\nL 286.503564 44.062125 \r\nL 289.577944 40.10867 \r\nL 292.652324 40.10867 \r\nL 295.726705 40.10867 \r\nL 298.801085 40.10867 \r\nL 301.875465 40.10867 \r\nL 304.949845 40.10867 \r\nL 308.024225 40.10867 \r\nL 311.098605 40.10867 \r\nL 314.172986 40.10867 \r\nL 317.247366 40.10867 \r\nL 320.321746 40.10867 \r\nL 323.396126 40.10867 \r\nL 326.470506 40.10867 \r\nL 329.544886 40.10867 \r\nL 332.619267 40.10867 \r\nL 335.693647 40.10867 \r\nL 338.768027 40.10867 \r\nL 341.842407 40.10867 \r\nL 344.916787 40.10867 \r\nL 347.991167 36.155216 \r\nL 351.065548 36.155216 \r\nL 354.139928 36.155216 \r\nL 357.214308 36.155216 \r\nL 360.288688 36.155216 \r\nL 363.363068 32.201761 \r\n\" style=\"fill:none;stroke:#0000ff;stroke-linecap:square;stroke-opacity:0.8;stroke-width:2;\"/>\r\n   </g>\r\n   <g id=\"patch_3\">\r\n    <path d=\"M 43.78125 239.758125 \r\nL 43.78125 22.318125 \r\n\" style=\"fill:none;stroke:#000000;stroke-linecap:square;stroke-linejoin:miter;stroke-width:0.8;\"/>\r\n   </g>\r\n   <g id=\"patch_4\">\r\n    <path d=\"M 378.58125 239.758125 \r\nL 378.58125 22.318125 \r\n\" style=\"fill:none;stroke:#000000;stroke-linecap:square;stroke-linejoin:miter;stroke-width:0.8;\"/>\r\n   </g>\r\n   <g id=\"patch_5\">\r\n    <path d=\"M 43.78125 239.758125 \r\nL 378.58125 239.758125 \r\n\" style=\"fill:none;stroke:#000000;stroke-linecap:square;stroke-linejoin:miter;stroke-width:0.8;\"/>\r\n   </g>\r\n   <g id=\"patch_6\">\r\n    <path d=\"M 43.78125 22.318125 \r\nL 378.58125 22.318125 \r\n\" style=\"fill:none;stroke:#000000;stroke-linecap:square;stroke-linejoin:miter;stroke-width:0.8;\"/>\r\n   </g>\r\n   <g id=\"text_15\">\r\n    <!-- ROC -->\r\n    <defs>\r\n     <path d=\"M 39.40625 66.21875 \r\nQ 28.65625 66.21875 22.328125 58.203125 \r\nQ 16.015625 50.203125 16.015625 36.375 \r\nQ 16.015625 22.609375 22.328125 14.59375 \r\nQ 28.65625 6.59375 39.40625 6.59375 \r\nQ 50.140625 6.59375 56.421875 14.59375 \r\nQ 62.703125 22.609375 62.703125 36.375 \r\nQ 62.703125 50.203125 56.421875 58.203125 \r\nQ 50.140625 66.21875 39.40625 66.21875 \r\nz\r\nM 39.40625 74.21875 \r\nQ 54.734375 74.21875 63.90625 63.9375 \r\nQ 73.09375 53.65625 73.09375 36.375 \r\nQ 73.09375 19.140625 63.90625 8.859375 \r\nQ 54.734375 -1.421875 39.40625 -1.421875 \r\nQ 24.03125 -1.421875 14.8125 8.828125 \r\nQ 5.609375 19.09375 5.609375 36.375 \r\nQ 5.609375 53.65625 14.8125 63.9375 \r\nQ 24.03125 74.21875 39.40625 74.21875 \r\nz\r\n\" id=\"DejaVuSans-79\"/>\r\n     <path d=\"M 64.40625 67.28125 \r\nL 64.40625 56.890625 \r\nQ 59.421875 61.53125 53.78125 63.8125 \r\nQ 48.140625 66.109375 41.796875 66.109375 \r\nQ 29.296875 66.109375 22.65625 58.46875 \r\nQ 16.015625 50.828125 16.015625 36.375 \r\nQ 16.015625 21.96875 22.65625 14.328125 \r\nQ 29.296875 6.6875 41.796875 6.6875 \r\nQ 48.140625 6.6875 53.78125 8.984375 \r\nQ 59.421875 11.28125 64.40625 15.921875 \r\nL 64.40625 5.609375 \r\nQ 59.234375 2.09375 53.4375 0.328125 \r\nQ 47.65625 -1.421875 41.21875 -1.421875 \r\nQ 24.65625 -1.421875 15.125 8.703125 \r\nQ 5.609375 18.84375 5.609375 36.375 \r\nQ 5.609375 53.953125 15.125 64.078125 \r\nQ 24.65625 74.21875 41.21875 74.21875 \r\nQ 47.75 74.21875 53.53125 72.484375 \r\nQ 59.328125 70.75 64.40625 67.28125 \r\nz\r\n\" id=\"DejaVuSans-67\"/>\r\n    </defs>\r\n    <g transform=\"translate(198.099375 16.318125)scale(0.12 -0.12)\">\r\n     <use xlink:href=\"#DejaVuSans-82\"/>\r\n     <use x=\"69.482422\" xlink:href=\"#DejaVuSans-79\"/>\r\n     <use x=\"148.193359\" xlink:href=\"#DejaVuSans-67\"/>\r\n    </g>\r\n   </g>\r\n   <g id=\"legend_1\">\r\n    <g id=\"patch_7\">\r\n     <path d=\"M 181.18125 234.758125 \r\nL 371.58125 234.758125 \r\nQ 373.58125 234.758125 373.58125 232.758125 \r\nL 373.58125 116.333125 \r\nQ 373.58125 114.333125 371.58125 114.333125 \r\nL 181.18125 114.333125 \r\nQ 179.18125 114.333125 179.18125 116.333125 \r\nL 179.18125 232.758125 \r\nQ 179.18125 234.758125 181.18125 234.758125 \r\nz\r\n\" style=\"fill:#ffffff;opacity:0.8;stroke:#cccccc;stroke-linejoin:miter;\"/>\r\n    </g>\r\n    <g id=\"line2d_20\">\r\n     <path d=\"M 183.18125 122.431562 \r\nL 203.18125 122.431562 \r\n\" style=\"fill:none;stroke:#1f77b4;stroke-linecap:square;stroke-opacity:0.3;\"/>\r\n    </g>\r\n    <g id=\"line2d_21\"/>\r\n    <g id=\"text_16\">\r\n     <!-- ROC fold 0 (AUC = 0.69) -->\r\n     <defs>\r\n      <path d=\"M 37.109375 75.984375 \r\nL 37.109375 68.5 \r\nL 28.515625 68.5 \r\nQ 23.6875 68.5 21.796875 66.546875 \r\nQ 19.921875 64.59375 19.921875 59.515625 \r\nL 19.921875 54.6875 \r\nL 34.71875 54.6875 \r\nL 34.71875 47.703125 \r\nL 19.921875 47.703125 \r\nL 19.921875 0 \r\nL 10.890625 0 \r\nL 10.890625 47.703125 \r\nL 2.296875 47.703125 \r\nL 2.296875 54.6875 \r\nL 10.890625 54.6875 \r\nL 10.890625 58.5 \r\nQ 10.890625 67.625 15.140625 71.796875 \r\nQ 19.390625 75.984375 28.609375 75.984375 \r\nz\r\n\" id=\"DejaVuSans-102\"/>\r\n      <path d=\"M 45.40625 46.390625 \r\nL 45.40625 75.984375 \r\nL 54.390625 75.984375 \r\nL 54.390625 0 \r\nL 45.40625 0 \r\nL 45.40625 8.203125 \r\nQ 42.578125 3.328125 38.25 0.953125 \r\nQ 33.9375 -1.421875 27.875 -1.421875 \r\nQ 17.96875 -1.421875 11.734375 6.484375 \r\nQ 5.515625 14.40625 5.515625 27.296875 \r\nQ 5.515625 40.1875 11.734375 48.09375 \r\nQ 17.96875 56 27.875 56 \r\nQ 33.9375 56 38.25 53.625 \r\nQ 42.578125 51.265625 45.40625 46.390625 \r\nz\r\nM 14.796875 27.296875 \r\nQ 14.796875 17.390625 18.875 11.75 \r\nQ 22.953125 6.109375 30.078125 6.109375 \r\nQ 37.203125 6.109375 41.296875 11.75 \r\nQ 45.40625 17.390625 45.40625 27.296875 \r\nQ 45.40625 37.203125 41.296875 42.84375 \r\nQ 37.203125 48.484375 30.078125 48.484375 \r\nQ 22.953125 48.484375 18.875 42.84375 \r\nQ 14.796875 37.203125 14.796875 27.296875 \r\nz\r\n\" id=\"DejaVuSans-100\"/>\r\n      <path d=\"M 31 75.875 \r\nQ 24.46875 64.65625 21.28125 53.65625 \r\nQ 18.109375 42.671875 18.109375 31.390625 \r\nQ 18.109375 20.125 21.3125 9.0625 \r\nQ 24.515625 -2 31 -13.1875 \r\nL 23.1875 -13.1875 \r\nQ 15.875 -1.703125 12.234375 9.375 \r\nQ 8.59375 20.453125 8.59375 31.390625 \r\nQ 8.59375 42.28125 12.203125 53.3125 \r\nQ 15.828125 64.359375 23.1875 75.875 \r\nz\r\n\" id=\"DejaVuSans-40\"/>\r\n      <path d=\"M 34.1875 63.1875 \r\nL 20.796875 26.90625 \r\nL 47.609375 26.90625 \r\nz\r\nM 28.609375 72.90625 \r\nL 39.796875 72.90625 \r\nL 67.578125 0 \r\nL 57.328125 0 \r\nL 50.6875 18.703125 \r\nL 17.828125 18.703125 \r\nL 11.1875 0 \r\nL 0.78125 0 \r\nz\r\n\" id=\"DejaVuSans-65\"/>\r\n      <path d=\"M 8.6875 72.90625 \r\nL 18.609375 72.90625 \r\nL 18.609375 28.609375 \r\nQ 18.609375 16.890625 22.84375 11.734375 \r\nQ 27.09375 6.59375 36.625 6.59375 \r\nQ 46.09375 6.59375 50.34375 11.734375 \r\nQ 54.59375 16.890625 54.59375 28.609375 \r\nL 54.59375 72.90625 \r\nL 64.5 72.90625 \r\nL 64.5 27.390625 \r\nQ 64.5 13.140625 57.4375 5.859375 \r\nQ 50.390625 -1.421875 36.625 -1.421875 \r\nQ 22.796875 -1.421875 15.734375 5.859375 \r\nQ 8.6875 13.140625 8.6875 27.390625 \r\nz\r\n\" id=\"DejaVuSans-85\"/>\r\n      <path d=\"M 10.59375 45.40625 \r\nL 73.1875 45.40625 \r\nL 73.1875 37.203125 \r\nL 10.59375 37.203125 \r\nz\r\nM 10.59375 25.484375 \r\nL 73.1875 25.484375 \r\nL 73.1875 17.1875 \r\nL 10.59375 17.1875 \r\nz\r\n\" id=\"DejaVuSans-61\"/>\r\n      <path d=\"M 10.984375 1.515625 \r\nL 10.984375 10.5 \r\nQ 14.703125 8.734375 18.5 7.8125 \r\nQ 22.3125 6.890625 25.984375 6.890625 \r\nQ 35.75 6.890625 40.890625 13.453125 \r\nQ 46.046875 20.015625 46.78125 33.40625 \r\nQ 43.953125 29.203125 39.59375 26.953125 \r\nQ 35.25 24.703125 29.984375 24.703125 \r\nQ 19.046875 24.703125 12.671875 31.3125 \r\nQ 6.296875 37.9375 6.296875 49.421875 \r\nQ 6.296875 60.640625 12.9375 67.421875 \r\nQ 19.578125 74.21875 30.609375 74.21875 \r\nQ 43.265625 74.21875 49.921875 64.515625 \r\nQ 56.59375 54.828125 56.59375 36.375 \r\nQ 56.59375 19.140625 48.40625 8.859375 \r\nQ 40.234375 -1.421875 26.421875 -1.421875 \r\nQ 22.703125 -1.421875 18.890625 -0.6875 \r\nQ 15.09375 0.046875 10.984375 1.515625 \r\nz\r\nM 30.609375 32.421875 \r\nQ 37.25 32.421875 41.125 36.953125 \r\nQ 45.015625 41.5 45.015625 49.421875 \r\nQ 45.015625 57.28125 41.125 61.84375 \r\nQ 37.25 66.40625 30.609375 66.40625 \r\nQ 23.96875 66.40625 20.09375 61.84375 \r\nQ 16.21875 57.28125 16.21875 49.421875 \r\nQ 16.21875 41.5 20.09375 36.953125 \r\nQ 23.96875 32.421875 30.609375 32.421875 \r\nz\r\n\" id=\"DejaVuSans-57\"/>\r\n      <path d=\"M 8.015625 75.875 \r\nL 15.828125 75.875 \r\nQ 23.140625 64.359375 26.78125 53.3125 \r\nQ 30.421875 42.28125 30.421875 31.390625 \r\nQ 30.421875 20.453125 26.78125 9.375 \r\nQ 23.140625 -1.703125 15.828125 -13.1875 \r\nL 8.015625 -13.1875 \r\nQ 14.5 -2 17.703125 9.0625 \r\nQ 20.90625 20.125 20.90625 31.390625 \r\nQ 20.90625 42.671875 17.703125 53.65625 \r\nQ 14.5 64.65625 8.015625 75.875 \r\nz\r\n\" id=\"DejaVuSans-41\"/>\r\n     </defs>\r\n     <g transform=\"translate(211.18125 125.931562)scale(0.1 -0.1)\">\r\n      <use xlink:href=\"#DejaVuSans-82\"/>\r\n      <use x=\"69.482422\" xlink:href=\"#DejaVuSans-79\"/>\r\n      <use x=\"148.193359\" xlink:href=\"#DejaVuSans-67\"/>\r\n      <use x=\"218.017578\" xlink:href=\"#DejaVuSans-32\"/>\r\n      <use x=\"249.804688\" xlink:href=\"#DejaVuSans-102\"/>\r\n      <use x=\"285.009766\" xlink:href=\"#DejaVuSans-111\"/>\r\n      <use x=\"346.191406\" xlink:href=\"#DejaVuSans-108\"/>\r\n      <use x=\"373.974609\" xlink:href=\"#DejaVuSans-100\"/>\r\n      <use x=\"437.451172\" xlink:href=\"#DejaVuSans-32\"/>\r\n      <use x=\"469.238281\" xlink:href=\"#DejaVuSans-48\"/>\r\n      <use x=\"532.861328\" xlink:href=\"#DejaVuSans-32\"/>\r\n      <use x=\"564.648438\" xlink:href=\"#DejaVuSans-40\"/>\r\n      <use x=\"603.662109\" xlink:href=\"#DejaVuSans-65\"/>\r\n      <use x=\"672.070312\" xlink:href=\"#DejaVuSans-85\"/>\r\n      <use x=\"745.263672\" xlink:href=\"#DejaVuSans-67\"/>\r\n      <use x=\"815.087891\" xlink:href=\"#DejaVuSans-32\"/>\r\n      <use x=\"846.875\" xlink:href=\"#DejaVuSans-61\"/>\r\n      <use x=\"930.664062\" xlink:href=\"#DejaVuSans-32\"/>\r\n      <use x=\"962.451172\" xlink:href=\"#DejaVuSans-48\"/>\r\n      <use x=\"1026.074219\" xlink:href=\"#DejaVuSans-46\"/>\r\n      <use x=\"1057.861328\" xlink:href=\"#DejaVuSans-54\"/>\r\n      <use x=\"1121.484375\" xlink:href=\"#DejaVuSans-57\"/>\r\n      <use x=\"1185.107422\" xlink:href=\"#DejaVuSans-41\"/>\r\n     </g>\r\n    </g>\r\n    <g id=\"line2d_22\">\r\n     <path d=\"M 183.18125 137.109688 \r\nL 203.18125 137.109688 \r\n\" style=\"fill:none;stroke:#ff7f0e;stroke-linecap:square;stroke-opacity:0.3;\"/>\r\n    </g>\r\n    <g id=\"line2d_23\"/>\r\n    <g id=\"text_17\">\r\n     <!-- ROC fold 1 (AUC = 0.86) -->\r\n     <g transform=\"translate(211.18125 140.609688)scale(0.1 -0.1)\">\r\n      <use xlink:href=\"#DejaVuSans-82\"/>\r\n      <use x=\"69.482422\" xlink:href=\"#DejaVuSans-79\"/>\r\n      <use x=\"148.193359\" xlink:href=\"#DejaVuSans-67\"/>\r\n      <use x=\"218.017578\" xlink:href=\"#DejaVuSans-32\"/>\r\n      <use x=\"249.804688\" xlink:href=\"#DejaVuSans-102\"/>\r\n      <use x=\"285.009766\" xlink:href=\"#DejaVuSans-111\"/>\r\n      <use x=\"346.191406\" xlink:href=\"#DejaVuSans-108\"/>\r\n      <use x=\"373.974609\" xlink:href=\"#DejaVuSans-100\"/>\r\n      <use x=\"437.451172\" xlink:href=\"#DejaVuSans-32\"/>\r\n      <use x=\"469.238281\" xlink:href=\"#DejaVuSans-49\"/>\r\n      <use x=\"532.861328\" xlink:href=\"#DejaVuSans-32\"/>\r\n      <use x=\"564.648438\" xlink:href=\"#DejaVuSans-40\"/>\r\n      <use x=\"603.662109\" xlink:href=\"#DejaVuSans-65\"/>\r\n      <use x=\"672.070312\" xlink:href=\"#DejaVuSans-85\"/>\r\n      <use x=\"745.263672\" xlink:href=\"#DejaVuSans-67\"/>\r\n      <use x=\"815.087891\" xlink:href=\"#DejaVuSans-32\"/>\r\n      <use x=\"846.875\" xlink:href=\"#DejaVuSans-61\"/>\r\n      <use x=\"930.664062\" xlink:href=\"#DejaVuSans-32\"/>\r\n      <use x=\"962.451172\" xlink:href=\"#DejaVuSans-48\"/>\r\n      <use x=\"1026.074219\" xlink:href=\"#DejaVuSans-46\"/>\r\n      <use x=\"1057.861328\" xlink:href=\"#DejaVuSans-56\"/>\r\n      <use x=\"1121.484375\" xlink:href=\"#DejaVuSans-54\"/>\r\n      <use x=\"1185.107422\" xlink:href=\"#DejaVuSans-41\"/>\r\n     </g>\r\n    </g>\r\n    <g id=\"line2d_24\">\r\n     <path d=\"M 183.18125 151.787812 \r\nL 203.18125 151.787812 \r\n\" style=\"fill:none;stroke:#2ca02c;stroke-linecap:square;stroke-opacity:0.3;\"/>\r\n    </g>\r\n    <g id=\"line2d_25\"/>\r\n    <g id=\"text_18\">\r\n     <!-- ROC fold 2 (AUC = 0.78) -->\r\n     <defs>\r\n      <path d=\"M 8.203125 72.90625 \r\nL 55.078125 72.90625 \r\nL 55.078125 68.703125 \r\nL 28.609375 0 \r\nL 18.3125 0 \r\nL 43.21875 64.59375 \r\nL 8.203125 64.59375 \r\nz\r\n\" id=\"DejaVuSans-55\"/>\r\n     </defs>\r\n     <g transform=\"translate(211.18125 155.287812)scale(0.1 -0.1)\">\r\n      <use xlink:href=\"#DejaVuSans-82\"/>\r\n      <use x=\"69.482422\" xlink:href=\"#DejaVuSans-79\"/>\r\n      <use x=\"148.193359\" xlink:href=\"#DejaVuSans-67\"/>\r\n      <use x=\"218.017578\" xlink:href=\"#DejaVuSans-32\"/>\r\n      <use x=\"249.804688\" xlink:href=\"#DejaVuSans-102\"/>\r\n      <use x=\"285.009766\" xlink:href=\"#DejaVuSans-111\"/>\r\n      <use x=\"346.191406\" xlink:href=\"#DejaVuSans-108\"/>\r\n      <use x=\"373.974609\" xlink:href=\"#DejaVuSans-100\"/>\r\n      <use x=\"437.451172\" xlink:href=\"#DejaVuSans-32\"/>\r\n      <use x=\"469.238281\" xlink:href=\"#DejaVuSans-50\"/>\r\n      <use x=\"532.861328\" xlink:href=\"#DejaVuSans-32\"/>\r\n      <use x=\"564.648438\" xlink:href=\"#DejaVuSans-40\"/>\r\n      <use x=\"603.662109\" xlink:href=\"#DejaVuSans-65\"/>\r\n      <use x=\"672.070312\" xlink:href=\"#DejaVuSans-85\"/>\r\n      <use x=\"745.263672\" xlink:href=\"#DejaVuSans-67\"/>\r\n      <use x=\"815.087891\" xlink:href=\"#DejaVuSans-32\"/>\r\n      <use x=\"846.875\" xlink:href=\"#DejaVuSans-61\"/>\r\n      <use x=\"930.664062\" xlink:href=\"#DejaVuSans-32\"/>\r\n      <use x=\"962.451172\" xlink:href=\"#DejaVuSans-48\"/>\r\n      <use x=\"1026.074219\" xlink:href=\"#DejaVuSans-46\"/>\r\n      <use x=\"1057.861328\" xlink:href=\"#DejaVuSans-55\"/>\r\n      <use x=\"1121.484375\" xlink:href=\"#DejaVuSans-56\"/>\r\n      <use x=\"1185.107422\" xlink:href=\"#DejaVuSans-41\"/>\r\n     </g>\r\n    </g>\r\n    <g id=\"line2d_26\">\r\n     <path d=\"M 183.18125 166.465937 \r\nL 203.18125 166.465937 \r\n\" style=\"fill:none;stroke:#d62728;stroke-linecap:square;stroke-opacity:0.3;\"/>\r\n    </g>\r\n    <g id=\"line2d_27\"/>\r\n    <g id=\"text_19\">\r\n     <!-- ROC fold 3 (AUC = 0.84) -->\r\n     <defs>\r\n      <path d=\"M 40.578125 39.3125 \r\nQ 47.65625 37.796875 51.625 33 \r\nQ 55.609375 28.21875 55.609375 21.1875 \r\nQ 55.609375 10.40625 48.1875 4.484375 \r\nQ 40.765625 -1.421875 27.09375 -1.421875 \r\nQ 22.515625 -1.421875 17.65625 -0.515625 \r\nQ 12.796875 0.390625 7.625 2.203125 \r\nL 7.625 11.71875 \r\nQ 11.71875 9.328125 16.59375 8.109375 \r\nQ 21.484375 6.890625 26.8125 6.890625 \r\nQ 36.078125 6.890625 40.9375 10.546875 \r\nQ 45.796875 14.203125 45.796875 21.1875 \r\nQ 45.796875 27.640625 41.28125 31.265625 \r\nQ 36.765625 34.90625 28.71875 34.90625 \r\nL 20.21875 34.90625 \r\nL 20.21875 43.015625 \r\nL 29.109375 43.015625 \r\nQ 36.375 43.015625 40.234375 45.921875 \r\nQ 44.09375 48.828125 44.09375 54.296875 \r\nQ 44.09375 59.90625 40.109375 62.90625 \r\nQ 36.140625 65.921875 28.71875 65.921875 \r\nQ 24.65625 65.921875 20.015625 65.03125 \r\nQ 15.375 64.15625 9.8125 62.3125 \r\nL 9.8125 71.09375 \r\nQ 15.4375 72.65625 20.34375 73.4375 \r\nQ 25.25 74.21875 29.59375 74.21875 \r\nQ 40.828125 74.21875 47.359375 69.109375 \r\nQ 53.90625 64.015625 53.90625 55.328125 \r\nQ 53.90625 49.265625 50.4375 45.09375 \r\nQ 46.96875 40.921875 40.578125 39.3125 \r\nz\r\n\" id=\"DejaVuSans-51\"/>\r\n     </defs>\r\n     <g transform=\"translate(211.18125 169.965937)scale(0.1 -0.1)\">\r\n      <use xlink:href=\"#DejaVuSans-82\"/>\r\n      <use x=\"69.482422\" xlink:href=\"#DejaVuSans-79\"/>\r\n      <use x=\"148.193359\" xlink:href=\"#DejaVuSans-67\"/>\r\n      <use x=\"218.017578\" xlink:href=\"#DejaVuSans-32\"/>\r\n      <use x=\"249.804688\" xlink:href=\"#DejaVuSans-102\"/>\r\n      <use x=\"285.009766\" xlink:href=\"#DejaVuSans-111\"/>\r\n      <use x=\"346.191406\" xlink:href=\"#DejaVuSans-108\"/>\r\n      <use x=\"373.974609\" xlink:href=\"#DejaVuSans-100\"/>\r\n      <use x=\"437.451172\" xlink:href=\"#DejaVuSans-32\"/>\r\n      <use x=\"469.238281\" xlink:href=\"#DejaVuSans-51\"/>\r\n      <use x=\"532.861328\" xlink:href=\"#DejaVuSans-32\"/>\r\n      <use x=\"564.648438\" xlink:href=\"#DejaVuSans-40\"/>\r\n      <use x=\"603.662109\" xlink:href=\"#DejaVuSans-65\"/>\r\n      <use x=\"672.070312\" xlink:href=\"#DejaVuSans-85\"/>\r\n      <use x=\"745.263672\" xlink:href=\"#DejaVuSans-67\"/>\r\n      <use x=\"815.087891\" xlink:href=\"#DejaVuSans-32\"/>\r\n      <use x=\"846.875\" xlink:href=\"#DejaVuSans-61\"/>\r\n      <use x=\"930.664062\" xlink:href=\"#DejaVuSans-32\"/>\r\n      <use x=\"962.451172\" xlink:href=\"#DejaVuSans-48\"/>\r\n      <use x=\"1026.074219\" xlink:href=\"#DejaVuSans-46\"/>\r\n      <use x=\"1057.861328\" xlink:href=\"#DejaVuSans-56\"/>\r\n      <use x=\"1121.484375\" xlink:href=\"#DejaVuSans-52\"/>\r\n      <use x=\"1185.107422\" xlink:href=\"#DejaVuSans-41\"/>\r\n     </g>\r\n    </g>\r\n    <g id=\"line2d_28\">\r\n     <path d=\"M 183.18125 181.144062 \r\nL 203.18125 181.144062 \r\n\" style=\"fill:none;stroke:#9467bd;stroke-linecap:square;stroke-opacity:0.3;\"/>\r\n    </g>\r\n    <g id=\"line2d_29\"/>\r\n    <g id=\"text_20\">\r\n     <!-- ROC fold 4 (AUC = 0.79) -->\r\n     <g transform=\"translate(211.18125 184.644062)scale(0.1 -0.1)\">\r\n      <use xlink:href=\"#DejaVuSans-82\"/>\r\n      <use x=\"69.482422\" xlink:href=\"#DejaVuSans-79\"/>\r\n      <use x=\"148.193359\" xlink:href=\"#DejaVuSans-67\"/>\r\n      <use x=\"218.017578\" xlink:href=\"#DejaVuSans-32\"/>\r\n      <use x=\"249.804688\" xlink:href=\"#DejaVuSans-102\"/>\r\n      <use x=\"285.009766\" xlink:href=\"#DejaVuSans-111\"/>\r\n      <use x=\"346.191406\" xlink:href=\"#DejaVuSans-108\"/>\r\n      <use x=\"373.974609\" xlink:href=\"#DejaVuSans-100\"/>\r\n      <use x=\"437.451172\" xlink:href=\"#DejaVuSans-32\"/>\r\n      <use x=\"469.238281\" xlink:href=\"#DejaVuSans-52\"/>\r\n      <use x=\"532.861328\" xlink:href=\"#DejaVuSans-32\"/>\r\n      <use x=\"564.648438\" xlink:href=\"#DejaVuSans-40\"/>\r\n      <use x=\"603.662109\" xlink:href=\"#DejaVuSans-65\"/>\r\n      <use x=\"672.070312\" xlink:href=\"#DejaVuSans-85\"/>\r\n      <use x=\"745.263672\" xlink:href=\"#DejaVuSans-67\"/>\r\n      <use x=\"815.087891\" xlink:href=\"#DejaVuSans-32\"/>\r\n      <use x=\"846.875\" xlink:href=\"#DejaVuSans-61\"/>\r\n      <use x=\"930.664062\" xlink:href=\"#DejaVuSans-32\"/>\r\n      <use x=\"962.451172\" xlink:href=\"#DejaVuSans-48\"/>\r\n      <use x=\"1026.074219\" xlink:href=\"#DejaVuSans-46\"/>\r\n      <use x=\"1057.861328\" xlink:href=\"#DejaVuSans-55\"/>\r\n      <use x=\"1121.484375\" xlink:href=\"#DejaVuSans-57\"/>\r\n      <use x=\"1185.107422\" xlink:href=\"#DejaVuSans-41\"/>\r\n     </g>\r\n    </g>\r\n    <g id=\"line2d_30\">\r\n     <path d=\"M 183.18125 195.822187 \r\nL 203.18125 195.822187 \r\n\" style=\"fill:none;stroke:#ff0000;stroke-dasharray:7.4,3.2;stroke-dashoffset:0;stroke-opacity:0.8;stroke-width:2;\"/>\r\n    </g>\r\n    <g id=\"line2d_31\"/>\r\n    <g id=\"text_21\">\r\n     <!-- Chance -->\r\n     <defs>\r\n      <path d=\"M 54.890625 33.015625 \r\nL 54.890625 0 \r\nL 45.90625 0 \r\nL 45.90625 32.71875 \r\nQ 45.90625 40.484375 42.875 44.328125 \r\nQ 39.84375 48.1875 33.796875 48.1875 \r\nQ 26.515625 48.1875 22.3125 43.546875 \r\nQ 18.109375 38.921875 18.109375 30.90625 \r\nL 18.109375 0 \r\nL 9.078125 0 \r\nL 9.078125 75.984375 \r\nL 18.109375 75.984375 \r\nL 18.109375 46.1875 \r\nQ 21.34375 51.125 25.703125 53.5625 \r\nQ 30.078125 56 35.796875 56 \r\nQ 45.21875 56 50.046875 50.171875 \r\nQ 54.890625 44.34375 54.890625 33.015625 \r\nz\r\n\" id=\"DejaVuSans-104\"/>\r\n      <path d=\"M 54.890625 33.015625 \r\nL 54.890625 0 \r\nL 45.90625 0 \r\nL 45.90625 32.71875 \r\nQ 45.90625 40.484375 42.875 44.328125 \r\nQ 39.84375 48.1875 33.796875 48.1875 \r\nQ 26.515625 48.1875 22.3125 43.546875 \r\nQ 18.109375 38.921875 18.109375 30.90625 \r\nL 18.109375 0 \r\nL 9.078125 0 \r\nL 9.078125 54.6875 \r\nL 18.109375 54.6875 \r\nL 18.109375 46.1875 \r\nQ 21.34375 51.125 25.703125 53.5625 \r\nQ 30.078125 56 35.796875 56 \r\nQ 45.21875 56 50.046875 50.171875 \r\nQ 54.890625 44.34375 54.890625 33.015625 \r\nz\r\n\" id=\"DejaVuSans-110\"/>\r\n      <path d=\"M 48.78125 52.59375 \r\nL 48.78125 44.1875 \r\nQ 44.96875 46.296875 41.140625 47.34375 \r\nQ 37.3125 48.390625 33.40625 48.390625 \r\nQ 24.65625 48.390625 19.8125 42.84375 \r\nQ 14.984375 37.3125 14.984375 27.296875 \r\nQ 14.984375 17.28125 19.8125 11.734375 \r\nQ 24.65625 6.203125 33.40625 6.203125 \r\nQ 37.3125 6.203125 41.140625 7.25 \r\nQ 44.96875 8.296875 48.78125 10.40625 \r\nL 48.78125 2.09375 \r\nQ 45.015625 0.34375 40.984375 -0.53125 \r\nQ 36.96875 -1.421875 32.421875 -1.421875 \r\nQ 20.0625 -1.421875 12.78125 6.34375 \r\nQ 5.515625 14.109375 5.515625 27.296875 \r\nQ 5.515625 40.671875 12.859375 48.328125 \r\nQ 20.21875 56 33.015625 56 \r\nQ 37.15625 56 41.109375 55.140625 \r\nQ 45.0625 54.296875 48.78125 52.59375 \r\nz\r\n\" id=\"DejaVuSans-99\"/>\r\n     </defs>\r\n     <g transform=\"translate(211.18125 199.322187)scale(0.1 -0.1)\">\r\n      <use xlink:href=\"#DejaVuSans-67\"/>\r\n      <use x=\"69.824219\" xlink:href=\"#DejaVuSans-104\"/>\r\n      <use x=\"133.203125\" xlink:href=\"#DejaVuSans-97\"/>\r\n      <use x=\"194.482422\" xlink:href=\"#DejaVuSans-110\"/>\r\n      <use x=\"257.861328\" xlink:href=\"#DejaVuSans-99\"/>\r\n      <use x=\"312.841797\" xlink:href=\"#DejaVuSans-101\"/>\r\n     </g>\r\n    </g>\r\n    <g id=\"line2d_32\">\r\n     <path d=\"M 183.18125 210.500312 \r\nL 203.18125 210.500312 \r\n\" style=\"fill:none;stroke:#0000ff;stroke-linecap:square;stroke-opacity:0.8;stroke-width:2;\"/>\r\n    </g>\r\n    <g id=\"line2d_33\"/>\r\n    <g id=\"text_22\">\r\n     <!-- Mean ROC (AUC = 0.79 $\\pm$ 0.06) -->\r\n     <defs>\r\n      <path d=\"M 9.8125 72.90625 \r\nL 24.515625 72.90625 \r\nL 43.109375 23.296875 \r\nL 61.8125 72.90625 \r\nL 76.515625 72.90625 \r\nL 76.515625 0 \r\nL 66.890625 0 \r\nL 66.890625 64.015625 \r\nL 48.09375 14.015625 \r\nL 38.1875 14.015625 \r\nL 19.390625 64.015625 \r\nL 19.390625 0 \r\nL 9.8125 0 \r\nz\r\n\" id=\"DejaVuSans-77\"/>\r\n      <path d=\"M 46 62.703125 \r\nL 46 43.796875 \r\nL 73.1875 43.796875 \r\nL 73.1875 35.5 \r\nL 46 35.5 \r\nL 46 16.609375 \r\nL 37.796875 16.609375 \r\nL 37.796875 35.5 \r\nL 10.59375 35.5 \r\nL 10.59375 43.796875 \r\nL 37.796875 43.796875 \r\nL 37.796875 62.703125 \r\nz\r\nM 10.59375 8.296875 \r\nL 73.1875 8.296875 \r\nL 73.1875 0 \r\nL 10.59375 0 \r\nz\r\n\" id=\"DejaVuSans-177\"/>\r\n     </defs>\r\n     <g transform=\"translate(211.18125 214.000312)scale(0.1 -0.1)\">\r\n      <use transform=\"translate(0 0.125)\" xlink:href=\"#DejaVuSans-77\"/>\r\n      <use transform=\"translate(86.279297 0.125)\" xlink:href=\"#DejaVuSans-101\"/>\r\n      <use transform=\"translate(147.802734 0.125)\" xlink:href=\"#DejaVuSans-97\"/>\r\n      <use transform=\"translate(209.082031 0.125)\" xlink:href=\"#DejaVuSans-110\"/>\r\n      <use transform=\"translate(272.460938 0.125)\" xlink:href=\"#DejaVuSans-32\"/>\r\n      <use transform=\"translate(304.248047 0.125)\" xlink:href=\"#DejaVuSans-82\"/>\r\n      <use transform=\"translate(373.730469 0.125)\" xlink:href=\"#DejaVuSans-79\"/>\r\n      <use transform=\"translate(452.441406 0.125)\" xlink:href=\"#DejaVuSans-67\"/>\r\n      <use transform=\"translate(522.265625 0.125)\" xlink:href=\"#DejaVuSans-32\"/>\r\n      <use transform=\"translate(554.052734 0.125)\" xlink:href=\"#DejaVuSans-40\"/>\r\n      <use transform=\"translate(593.066406 0.125)\" xlink:href=\"#DejaVuSans-65\"/>\r\n      <use transform=\"translate(661.474609 0.125)\" xlink:href=\"#DejaVuSans-85\"/>\r\n      <use transform=\"translate(734.667969 0.125)\" xlink:href=\"#DejaVuSans-67\"/>\r\n      <use transform=\"translate(804.492188 0.125)\" xlink:href=\"#DejaVuSans-32\"/>\r\n      <use transform=\"translate(836.279297 0.125)\" xlink:href=\"#DejaVuSans-61\"/>\r\n      <use transform=\"translate(920.068359 0.125)\" xlink:href=\"#DejaVuSans-32\"/>\r\n      <use transform=\"translate(951.855469 0.125)\" xlink:href=\"#DejaVuSans-48\"/>\r\n      <use transform=\"translate(1015.478516 0.125)\" xlink:href=\"#DejaVuSans-46\"/>\r\n      <use transform=\"translate(1047.15625 0.125)\" xlink:href=\"#DejaVuSans-55\"/>\r\n      <use transform=\"translate(1110.779297 0.125)\" xlink:href=\"#DejaVuSans-57\"/>\r\n      <use transform=\"translate(1174.402344 0.125)\" xlink:href=\"#DejaVuSans-32\"/>\r\n      <use transform=\"translate(1206.189453 0.125)\" xlink:href=\"#DejaVuSans-177\"/>\r\n      <use transform=\"translate(1289.978516 0.125)\" xlink:href=\"#DejaVuSans-32\"/>\r\n      <use transform=\"translate(1321.765625 0.125)\" xlink:href=\"#DejaVuSans-48\"/>\r\n      <use transform=\"translate(1385.388672 0.125)\" xlink:href=\"#DejaVuSans-46\"/>\r\n      <use transform=\"translate(1417.175781 0.125)\" xlink:href=\"#DejaVuSans-48\"/>\r\n      <use transform=\"translate(1480.798828 0.125)\" xlink:href=\"#DejaVuSans-54\"/>\r\n      <use transform=\"translate(1544.421875 0.125)\" xlink:href=\"#DejaVuSans-41\"/>\r\n     </g>\r\n    </g>\r\n    <g id=\"patch_8\">\r\n     <path d=\"M 183.18125 228.678437 \r\nL 203.18125 228.678437 \r\nL 203.18125 221.678437 \r\nL 183.18125 221.678437 \r\nz\r\n\" style=\"fill:#808080;opacity:0.2;stroke:#808080;stroke-linejoin:miter;\"/>\r\n    </g>\r\n    <g id=\"text_23\">\r\n     <!-- $\\pm$ 1 std. dev. -->\r\n     <g transform=\"translate(211.18125 228.678437)scale(0.1 -0.1)\">\r\n      <use transform=\"translate(0 0.015625)\" xlink:href=\"#DejaVuSans-177\"/>\r\n      <use transform=\"translate(83.789062 0.015625)\" xlink:href=\"#DejaVuSans-32\"/>\r\n      <use transform=\"translate(115.576172 0.015625)\" xlink:href=\"#DejaVuSans-49\"/>\r\n      <use transform=\"translate(179.199219 0.015625)\" xlink:href=\"#DejaVuSans-32\"/>\r\n      <use transform=\"translate(210.986328 0.015625)\" xlink:href=\"#DejaVuSans-115\"/>\r\n      <use transform=\"translate(263.085938 0.015625)\" xlink:href=\"#DejaVuSans-116\"/>\r\n      <use transform=\"translate(302.294922 0.015625)\" xlink:href=\"#DejaVuSans-100\"/>\r\n      <use transform=\"translate(365.771484 0.015625)\" xlink:href=\"#DejaVuSans-46\"/>\r\n      <use transform=\"translate(397.558594 0.015625)\" xlink:href=\"#DejaVuSans-32\"/>\r\n      <use transform=\"translate(429.345703 0.015625)\" xlink:href=\"#DejaVuSans-100\"/>\r\n      <use transform=\"translate(492.822266 0.015625)\" xlink:href=\"#DejaVuSans-101\"/>\r\n      <use transform=\"translate(554.345703 0.015625)\" xlink:href=\"#DejaVuSans-118\"/>\r\n      <use transform=\"translate(613.525391 0.015625)\" xlink:href=\"#DejaVuSans-46\"/>\r\n     </g>\r\n    </g>\r\n   </g>\r\n  </g>\r\n </g>\r\n <defs>\r\n  <clipPath id=\"p2f0e37b7df\">\r\n   <rect height=\"217.44\" width=\"334.8\" x=\"43.78125\" y=\"22.318125\"/>\r\n  </clipPath>\r\n </defs>\r\n</svg>\r\n",
      "image/png": "[encoded data removed]"
     },
     "metadata": {
      "needs_background": "light"
     }
    }
   ],
   "source": [
    "\n",
    "\n",
    "\n",
    "# random state for assigning random seed value\n",
    "\n",
    "random_state = np.random.RandomState(0)\n",
    "\n",
    "# #############################################################################\n",
    "# Classification and ROC analysis\n",
    "\n",
    "\n",
    "cv = StratifiedKFold(n_splits=5)\n",
    "\n",
    "\n",
    "tprs = []\n",
    "aucs = []\n",
    "mean_fpr = np.linspace(0, 1, 100)\n",
    "\n",
    "fig, ax = plt.subplots()\n",
    "for i, (train, test) in enumerate(cv.split(X, y)):\n",
    "    forest.fit(X.iloc[train],y.iloc[train])\n",
    "    viz = plot_roc_curve(forest, X.iloc[test], y.iloc[test],\n",
    "                         name='ROC fold {}'.format(i),\n",
    "                         alpha=0.3, lw=1, ax=ax)\n",
    "    interp_tpr = np.interp(mean_fpr, viz.fpr, viz.tpr)\n",
    "    interp_tpr[0] = 0.0\n",
    "    tprs.append(interp_tpr)\n",
    "    aucs.append(viz.roc_auc)\n",
    "\n",
    "ax.plot([0, 1], [0, 1], linestyle='--', lw=2, color='r',\n",
    "        label='Chance', alpha=.8)\n",
    "\n",
    "mean_tpr = np.mean(tprs, axis=0)\n",
    "mean_tpr[-1] = 1.0\n",
    "mean_auc = auc(mean_fpr, mean_tpr)\n",
    "std_auc = np.std(aucs)\n",
    "ax.plot(mean_fpr, mean_tpr, color='b',\n",
    "        label=r'Mean ROC (AUC = %0.2f $\\pm$ %0.2f)' % (mean_auc, std_auc),\n",
    "        lw=2, alpha=.8)\n",
    "\n",
    "std_tpr = np.std(tprs, axis=0)\n",
    "tprs_upper = np.minimum(mean_tpr + std_tpr, 1)\n",
    "tprs_lower = np.maximum(mean_tpr - std_tpr, 0)\n",
    "ax.fill_between(mean_fpr, tprs_lower, tprs_upper, color='grey', alpha=.2,\n",
    "                label=r'$\\pm$ 1 std. dev.')\n",
    "\n",
    "ax.set(xlim=[-0.05, 1.05], ylim=[-0.05, 1.05],\n",
    "       title=\"ROC\")\n",
    "ax.legend(loc=\"lower right\")\n",
    "\n",
    "plt.savefig(\"ROC_Updated.png\",dpi = 1200)\n",
    "plt.show()"
   ]
  },
  {
   "cell_type": "code",
   "execution_count": 28,
   "metadata": {},
   "outputs": [],
   "source": [
    "Pr = pd.read_csv(r'./Data/Descriptors_PredictionSet.csv',skipinitialspace = True)\n",
    "Pr.fillna(0,inplace = True)"
   ]
  },
  {
   "cell_type": "code",
   "execution_count": 29,
   "metadata": {},
   "outputs": [
    {
     "data": {
      "text/html": [
       "<div>\n",
       "<style scoped>\n",
       "    .dataframe tbody tr th:only-of-type {\n",
       "        vertical-align: middle;\n",
       "    }\n",
       "\n",
       "    .dataframe tbody tr th {\n",
       "        vertical-align: top;\n",
       "    }\n",
       "\n",
       "    .dataframe thead th {\n",
       "        text-align: right;\n",
       "    }\n",
       "</style>\n",
       "<table border=\"1\" class=\"dataframe\">\n",
       "  <thead>\n",
       "    <tr style=\"text-align: right;\">\n",
       "      <th></th>\n",
       "      <th>Name</th>\n",
       "      <th>nAcid</th>\n",
       "      <th>ALogP</th>\n",
       "      <th>ALogp2</th>\n",
       "      <th>AMR</th>\n",
       "      <th>apol</th>\n",
       "      <th>naAromAtom</th>\n",
       "      <th>nAromBond</th>\n",
       "      <th>nAtom</th>\n",
       "      <th>nHeavyAtom</th>\n",
       "      <th>...</th>\n",
       "      <th>AMW</th>\n",
       "      <th>WTPT-1</th>\n",
       "      <th>WTPT-2</th>\n",
       "      <th>WTPT-3</th>\n",
       "      <th>WTPT-4</th>\n",
       "      <th>WTPT-5</th>\n",
       "      <th>WPATH</th>\n",
       "      <th>WPOL</th>\n",
       "      <th>XLogP</th>\n",
       "      <th>Zagreb</th>\n",
       "    </tr>\n",
       "  </thead>\n",
       "  <tbody>\n",
       "    <tr>\n",
       "      <th>0</th>\n",
       "      <td>DB00125</td>\n",
       "      <td>1</td>\n",
       "      <td>-2.1807</td>\n",
       "      <td>4.755452</td>\n",
       "      <td>36.4993</td>\n",
       "      <td>25.899102</td>\n",
       "      <td>0</td>\n",
       "      <td>0</td>\n",
       "      <td>26</td>\n",
       "      <td>12</td>\n",
       "      <td>...</td>\n",
       "      <td>6.696603</td>\n",
       "      <td>22.320911</td>\n",
       "      <td>1.860076</td>\n",
       "      <td>14.832549</td>\n",
       "      <td>4.740395</td>\n",
       "      <td>10.092154</td>\n",
       "      <td>247.0</td>\n",
       "      <td>11</td>\n",
       "      <td>-2.924</td>\n",
       "      <td>48</td>\n",
       "    </tr>\n",
       "    <tr>\n",
       "      <th>1</th>\n",
       "      <td>DB00155</td>\n",
       "      <td>1</td>\n",
       "      <td>-2.3389</td>\n",
       "      <td>5.470453</td>\n",
       "      <td>35.2422</td>\n",
       "      <td>24.934309</td>\n",
       "      <td>0</td>\n",
       "      <td>0</td>\n",
       "      <td>25</td>\n",
       "      <td>12</td>\n",
       "      <td>...</td>\n",
       "      <td>7.003828</td>\n",
       "      <td>22.320911</td>\n",
       "      <td>1.860076</td>\n",
       "      <td>14.832549</td>\n",
       "      <td>7.120632</td>\n",
       "      <td>7.711917</td>\n",
       "      <td>247.0</td>\n",
       "      <td>11</td>\n",
       "      <td>-3.909</td>\n",
       "      <td>48</td>\n",
       "    </tr>\n",
       "    <tr>\n",
       "      <th>2</th>\n",
       "      <td>163</td>\n",
       "      <td>0</td>\n",
       "      <td>3.2935</td>\n",
       "      <td>10.847142</td>\n",
       "      <td>104.8267</td>\n",
       "      <td>85.983650</td>\n",
       "      <td>6</td>\n",
       "      <td>6</td>\n",
       "      <td>81</td>\n",
       "      <td>31</td>\n",
       "      <td>...</td>\n",
       "      <td>5.313347</td>\n",
       "      <td>61.142465</td>\n",
       "      <td>1.972338</td>\n",
       "      <td>5.615079</td>\n",
       "      <td>5.615079</td>\n",
       "      <td>0.000000</td>\n",
       "      <td>3414.0</td>\n",
       "      <td>48</td>\n",
       "      <td>10.938</td>\n",
       "      <td>154</td>\n",
       "    </tr>\n",
       "    <tr>\n",
       "      <th>3</th>\n",
       "      <td>DB00185</td>\n",
       "      <td>0</td>\n",
       "      <td>-0.1976</td>\n",
       "      <td>0.039046</td>\n",
       "      <td>50.5442</td>\n",
       "      <td>33.737481</td>\n",
       "      <td>0</td>\n",
       "      <td>0</td>\n",
       "      <td>30</td>\n",
       "      <td>13</td>\n",
       "      <td>...</td>\n",
       "      <td>6.636770</td>\n",
       "      <td>27.113657</td>\n",
       "      <td>2.085666</td>\n",
       "      <td>9.535937</td>\n",
       "      <td>3.061198</td>\n",
       "      <td>3.462387</td>\n",
       "      <td>213.0</td>\n",
       "      <td>19</td>\n",
       "      <td>1.295</td>\n",
       "      <td>76</td>\n",
       "    </tr>\n",
       "    <tr>\n",
       "      <th>4</th>\n",
       "      <td>201</td>\n",
       "      <td>0</td>\n",
       "      <td>-0.4311</td>\n",
       "      <td>0.185847</td>\n",
       "      <td>34.8722</td>\n",
       "      <td>26.751930</td>\n",
       "      <td>5</td>\n",
       "      <td>5</td>\n",
       "      <td>24</td>\n",
       "      <td>14</td>\n",
       "      <td>...</td>\n",
       "      <td>8.086682</td>\n",
       "      <td>27.800102</td>\n",
       "      <td>1.985722</td>\n",
       "      <td>17.761592</td>\n",
       "      <td>5.042091</td>\n",
       "      <td>12.719500</td>\n",
       "      <td>258.0</td>\n",
       "      <td>25</td>\n",
       "      <td>-0.625</td>\n",
       "      <td>76</td>\n",
       "    </tr>\n",
       "    <tr>\n",
       "      <th>...</th>\n",
       "      <td>...</td>\n",
       "      <td>...</td>\n",
       "      <td>...</td>\n",
       "      <td>...</td>\n",
       "      <td>...</td>\n",
       "      <td>...</td>\n",
       "      <td>...</td>\n",
       "      <td>...</td>\n",
       "      <td>...</td>\n",
       "      <td>...</td>\n",
       "      <td>...</td>\n",
       "      <td>...</td>\n",
       "      <td>...</td>\n",
       "      <td>...</td>\n",
       "      <td>...</td>\n",
       "      <td>...</td>\n",
       "      <td>...</td>\n",
       "      <td>...</td>\n",
       "      <td>...</td>\n",
       "      <td>...</td>\n",
       "      <td>...</td>\n",
       "    </tr>\n",
       "    <tr>\n",
       "      <th>125</th>\n",
       "      <td>DB09068</td>\n",
       "      <td>0</td>\n",
       "      <td>1.5138</td>\n",
       "      <td>2.291590</td>\n",
       "      <td>43.8445</td>\n",
       "      <td>51.449446</td>\n",
       "      <td>12</td>\n",
       "      <td>12</td>\n",
       "      <td>43</td>\n",
       "      <td>21</td>\n",
       "      <td>...</td>\n",
       "      <td>6.933730</td>\n",
       "      <td>43.095997</td>\n",
       "      <td>2.052190</td>\n",
       "      <td>9.632059</td>\n",
       "      <td>0.000000</td>\n",
       "      <td>6.483503</td>\n",
       "      <td>936.0</td>\n",
       "      <td>31</td>\n",
       "      <td>4.664</td>\n",
       "      <td>108</td>\n",
       "    </tr>\n",
       "    <tr>\n",
       "      <th>126</th>\n",
       "      <td>DB09073</td>\n",
       "      <td>0</td>\n",
       "      <td>-2.1537</td>\n",
       "      <td>4.638424</td>\n",
       "      <td>74.9835</td>\n",
       "      <td>70.880997</td>\n",
       "      <td>12</td>\n",
       "      <td>12</td>\n",
       "      <td>62</td>\n",
       "      <td>33</td>\n",
       "      <td>...</td>\n",
       "      <td>7.213521</td>\n",
       "      <td>68.291227</td>\n",
       "      <td>2.069431</td>\n",
       "      <td>27.670757</td>\n",
       "      <td>5.013522</td>\n",
       "      <td>22.657235</td>\n",
       "      <td>3345.0</td>\n",
       "      <td>57</td>\n",
       "      <td>1.689</td>\n",
       "      <td>180</td>\n",
       "    </tr>\n",
       "    <tr>\n",
       "      <th>127</th>\n",
       "      <td>DB09076</td>\n",
       "      <td>0</td>\n",
       "      <td>-1.8766</td>\n",
       "      <td>3.521628</td>\n",
       "      <td>50.7358</td>\n",
       "      <td>76.414962</td>\n",
       "      <td>18</td>\n",
       "      <td>18</td>\n",
       "      <td>66</td>\n",
       "      <td>32</td>\n",
       "      <td>...</td>\n",
       "      <td>6.488772</td>\n",
       "      <td>66.496442</td>\n",
       "      <td>2.078014</td>\n",
       "      <td>9.513794</td>\n",
       "      <td>5.686744</td>\n",
       "      <td>3.827050</td>\n",
       "      <td>3090.0</td>\n",
       "      <td>57</td>\n",
       "      <td>8.586</td>\n",
       "      <td>176</td>\n",
       "    </tr>\n",
       "    <tr>\n",
       "      <th>128</th>\n",
       "      <td>DB09078</td>\n",
       "      <td>0</td>\n",
       "      <td>-0.3562</td>\n",
       "      <td>0.126878</td>\n",
       "      <td>43.1321</td>\n",
       "      <td>59.417067</td>\n",
       "      <td>16</td>\n",
       "      <td>17</td>\n",
       "      <td>49</td>\n",
       "      <td>30</td>\n",
       "      <td>...</td>\n",
       "      <td>8.696112</td>\n",
       "      <td>60.901862</td>\n",
       "      <td>2.030062</td>\n",
       "      <td>24.984101</td>\n",
       "      <td>10.932898</td>\n",
       "      <td>11.485082</td>\n",
       "      <td>2706.0</td>\n",
       "      <td>48</td>\n",
       "      <td>4.175</td>\n",
       "      <td>160</td>\n",
       "    </tr>\n",
       "    <tr>\n",
       "      <th>129</th>\n",
       "      <td>DB09079</td>\n",
       "      <td>0</td>\n",
       "      <td>-1.7778</td>\n",
       "      <td>3.160573</td>\n",
       "      <td>79.1978</td>\n",
       "      <td>85.272169</td>\n",
       "      <td>18</td>\n",
       "      <td>18</td>\n",
       "      <td>73</td>\n",
       "      <td>40</td>\n",
       "      <td>...</td>\n",
       "      <td>7.387031</td>\n",
       "      <td>81.997445</td>\n",
       "      <td>2.049936</td>\n",
       "      <td>26.514870</td>\n",
       "      <td>10.341278</td>\n",
       "      <td>16.173592</td>\n",
       "      <td>5935.0</td>\n",
       "      <td>66</td>\n",
       "      <td>4.975</td>\n",
       "      <td>212</td>\n",
       "    </tr>\n",
       "  </tbody>\n",
       "</table>\n",
       "<p>130 rows × 1445 columns</p>\n",
       "</div>"
      ],
      "text/plain": [
       "        Name  nAcid   ALogP     ALogp2       AMR       apol  naAromAtom  \\\n",
       "0    DB00125      1 -2.1807   4.755452   36.4993  25.899102           0   \n",
       "1    DB00155      1 -2.3389   5.470453   35.2422  24.934309           0   \n",
       "2        163      0  3.2935  10.847142  104.8267  85.983650           6   \n",
       "3    DB00185      0 -0.1976   0.039046   50.5442  33.737481           0   \n",
       "4        201      0 -0.4311   0.185847   34.8722  26.751930           5   \n",
       "..       ...    ...     ...        ...       ...        ...         ...   \n",
       "125  DB09068      0  1.5138   2.291590   43.8445  51.449446          12   \n",
       "126  DB09073      0 -2.1537   4.638424   74.9835  70.880997          12   \n",
       "127  DB09076      0 -1.8766   3.521628   50.7358  76.414962          18   \n",
       "128  DB09078      0 -0.3562   0.126878   43.1321  59.417067          16   \n",
       "129  DB09079      0 -1.7778   3.160573   79.1978  85.272169          18   \n",
       "\n",
       "     nAromBond  nAtom  nHeavyAtom  ...       AMW     WTPT-1    WTPT-2  \\\n",
       "0            0     26          12  ...  6.696603  22.320911  1.860076   \n",
       "1            0     25          12  ...  7.003828  22.320911  1.860076   \n",
       "2            6     81          31  ...  5.313347  61.142465  1.972338   \n",
       "3            0     30          13  ...  6.636770  27.113657  2.085666   \n",
       "4            5     24          14  ...  8.086682  27.800102  1.985722   \n",
       "..         ...    ...         ...  ...       ...        ...       ...   \n",
       "125         12     43          21  ...  6.933730  43.095997  2.052190   \n",
       "126         12     62          33  ...  7.213521  68.291227  2.069431   \n",
       "127         18     66          32  ...  6.488772  66.496442  2.078014   \n",
       "128         17     49          30  ...  8.696112  60.901862  2.030062   \n",
       "129         18     73          40  ...  7.387031  81.997445  2.049936   \n",
       "\n",
       "        WTPT-3     WTPT-4     WTPT-5   WPATH  WPOL   XLogP  Zagreb  \n",
       "0    14.832549   4.740395  10.092154   247.0    11  -2.924      48  \n",
       "1    14.832549   7.120632   7.711917   247.0    11  -3.909      48  \n",
       "2     5.615079   5.615079   0.000000  3414.0    48  10.938     154  \n",
       "3     9.535937   3.061198   3.462387   213.0    19   1.295      76  \n",
       "4    17.761592   5.042091  12.719500   258.0    25  -0.625      76  \n",
       "..         ...        ...        ...     ...   ...     ...     ...  \n",
       "125   9.632059   0.000000   6.483503   936.0    31   4.664     108  \n",
       "126  27.670757   5.013522  22.657235  3345.0    57   1.689     180  \n",
       "127   9.513794   5.686744   3.827050  3090.0    57   8.586     176  \n",
       "128  24.984101  10.932898  11.485082  2706.0    48   4.175     160  \n",
       "129  26.514870  10.341278  16.173592  5935.0    66   4.975     212  \n",
       "\n",
       "[130 rows x 1445 columns]"
      ]
     },
     "execution_count": 29,
     "metadata": {},
     "output_type": "execute_result"
    }
   ],
   "source": [
    "Pr"
   ]
  },
  {
   "cell_type": "code",
   "execution_count": 30,
   "metadata": {
    "scrolled": false
   },
   "outputs": [
    {
     "data": {
      "text/plain": [
       "(array([0, 1]), array([120,  10], dtype=int64))"
      ]
     },
     "execution_count": 30,
     "metadata": {},
     "output_type": "execute_result"
    }
   ],
   "source": [
    "Yp = forest.predict(Pr.iloc[:,1:1445])\n",
    "np.unique(Yp,return_counts = True)\n"
   ]
  },
  {
   "cell_type": "code",
   "execution_count": 31,
   "metadata": {},
   "outputs": [
    {
     "data": {
      "text/plain": [
       "array([0, 0, 0, 0, 0, 0, 0, 0, 0, 0, 0, 0, 0, 0, 0, 0, 1, 0, 0, 0, 0, 0,\n",
       "       0, 1, 0, 0, 0, 0, 0, 0, 1, 0, 0, 0, 0, 0, 1, 0, 0, 0, 0, 0, 1, 0,\n",
       "       0, 0, 0, 0, 0, 0, 0, 0, 0, 0, 0, 0, 0, 0, 0, 0, 0, 0, 0, 0, 0, 0,\n",
       "       0, 0, 0, 1, 0, 0, 0, 0, 0, 0, 0, 0, 0, 0, 0, 0, 0, 0, 0, 0, 0, 0,\n",
       "       0, 0, 0, 0, 0, 0, 0, 0, 0, 0, 0, 0, 0, 0, 0, 0, 0, 0, 0, 1, 0, 0,\n",
       "       0, 0, 0, 0, 0, 0, 0, 0, 0, 0, 1, 0, 0, 1, 0, 0, 0, 0, 1, 0])"
      ]
     },
     "execution_count": 31,
     "metadata": {},
     "output_type": "execute_result"
    }
   ],
   "source": [
    "Yp2 = forest.predict(Pr.iloc[:,1:1445])\n",
    "np.unique(Yp2,return_counts = True)\n",
    "Yp2"
   ]
  },
  {
   "cell_type": "code",
   "execution_count": 32,
   "metadata": {},
   "outputs": [
    {
     "data": {
      "text/plain": [
       "array([0.664656  , 0.67094197, 0.53080159, 0.80189629, 0.70593858,\n",
       "       0.77897253, 0.64035194, 0.80586397, 0.61154004, 0.71376432,\n",
       "       0.69093487, 0.63041539, 0.58223887, 0.8188666 , 0.70553616,\n",
       "       0.69754129, 0.38340971, 0.6842893 , 0.70500237, 0.73587513,\n",
       "       0.68148317, 0.60494737, 0.74057046, 0.44372146, 0.73923649,\n",
       "       0.76495306, 0.74801473, 0.78720915, 0.76266919, 0.6783667 ,\n",
       "       0.49159812, 0.66757237, 0.75173114, 0.66648029, 0.74252127,\n",
       "       0.68488883, 0.40573006, 0.79486817, 0.68952621, 0.67642826,\n",
       "       0.57217829, 0.64722409, 0.40573006, 0.80967245, 0.77380764,\n",
       "       0.65551467, 0.59859012, 0.74252127, 0.58597976, 0.59927332,\n",
       "       0.66434727, 0.68029107, 0.70566112, 0.55600285, 0.74288662,\n",
       "       0.57322316, 0.67630886, 0.73426664, 0.75265905, 0.72299563,\n",
       "       0.69767627, 0.59685834, 0.74864594, 0.85198848, 0.80839075,\n",
       "       0.75959331, 0.76016227, 0.67604331, 0.69455561, 0.48276843,\n",
       "       0.62142136, 0.73072573, 0.79381315, 0.67572109, 0.77581388,\n",
       "       0.7403825 , 0.70917848, 0.74565096, 0.7292425 , 0.54872468,\n",
       "       0.66549901, 0.66250657, 0.6839721 , 0.70242247, 0.81343555,\n",
       "       0.59570129, 0.84514329, 0.57826435, 0.67213501, 0.53171047,\n",
       "       0.75470775, 0.80586397, 0.65408505, 0.69292911, 0.78430198,\n",
       "       0.69754129, 0.5119405 , 0.79212814, 0.827416  , 0.73962763,\n",
       "       0.62293922, 0.66150015, 0.61427564, 0.63645423, 0.72098619,\n",
       "       0.67130953, 0.72971831, 0.46873668, 0.67542454, 0.80673394,\n",
       "       0.60954969, 0.71696222, 0.60420265, 0.61567523, 0.73922282,\n",
       "       0.6208742 , 0.71705608, 0.79069692, 0.55750051, 0.5725625 ,\n",
       "       0.48666531, 0.61629486, 0.6035643 , 0.48935299, 0.59401406,\n",
       "       0.74299854, 0.67903749, 0.59140688, 0.40647034, 0.53435391])"
      ]
     },
     "execution_count": 32,
     "metadata": {},
     "output_type": "execute_result"
    }
   ],
   "source": [
    "ProbPredSet = forest.predict_proba(Pr.iloc[:,1:1445])\n",
    "ProbPredSet[:,0]"
   ]
  },
  {
   "cell_type": "code",
   "execution_count": 33,
   "metadata": {
    "scrolled": true
   },
   "outputs": [
    {
     "data": {
      "text/html": [
       "<div>\n",
       "<style scoped>\n",
       "    .dataframe tbody tr th:only-of-type {\n",
       "        vertical-align: middle;\n",
       "    }\n",
       "\n",
       "    .dataframe tbody tr th {\n",
       "        vertical-align: top;\n",
       "    }\n",
       "\n",
       "    .dataframe thead th {\n",
       "        text-align: right;\n",
       "    }\n",
       "</style>\n",
       "<table border=\"1\" class=\"dataframe\">\n",
       "  <thead>\n",
       "    <tr style=\"text-align: right;\">\n",
       "      <th></th>\n",
       "      <th>Name</th>\n",
       "      <th>IsCandidate</th>\n",
       "      <th>Classifier Probability Class 0</th>\n",
       "      <th>Classifier Probability Class 1</th>\n",
       "    </tr>\n",
       "  </thead>\n",
       "  <tbody>\n",
       "    <tr>\n",
       "      <th>0</th>\n",
       "      <td>DB00125</td>\n",
       "      <td>0</td>\n",
       "      <td>0.664656</td>\n",
       "      <td>0.335344</td>\n",
       "    </tr>\n",
       "    <tr>\n",
       "      <th>1</th>\n",
       "      <td>DB00155</td>\n",
       "      <td>0</td>\n",
       "      <td>0.670942</td>\n",
       "      <td>0.329058</td>\n",
       "    </tr>\n",
       "    <tr>\n",
       "      <th>2</th>\n",
       "      <td>163</td>\n",
       "      <td>0</td>\n",
       "      <td>0.530802</td>\n",
       "      <td>0.469198</td>\n",
       "    </tr>\n",
       "    <tr>\n",
       "      <th>3</th>\n",
       "      <td>DB00185</td>\n",
       "      <td>0</td>\n",
       "      <td>0.801896</td>\n",
       "      <td>0.198104</td>\n",
       "    </tr>\n",
       "    <tr>\n",
       "      <th>4</th>\n",
       "      <td>201</td>\n",
       "      <td>0</td>\n",
       "      <td>0.705939</td>\n",
       "      <td>0.294061</td>\n",
       "    </tr>\n",
       "    <tr>\n",
       "      <th>...</th>\n",
       "      <td>...</td>\n",
       "      <td>...</td>\n",
       "      <td>...</td>\n",
       "      <td>...</td>\n",
       "    </tr>\n",
       "    <tr>\n",
       "      <th>125</th>\n",
       "      <td>DB09068</td>\n",
       "      <td>0</td>\n",
       "      <td>0.742999</td>\n",
       "      <td>0.257001</td>\n",
       "    </tr>\n",
       "    <tr>\n",
       "      <th>126</th>\n",
       "      <td>DB09073</td>\n",
       "      <td>0</td>\n",
       "      <td>0.679037</td>\n",
       "      <td>0.320963</td>\n",
       "    </tr>\n",
       "    <tr>\n",
       "      <th>127</th>\n",
       "      <td>DB09076</td>\n",
       "      <td>0</td>\n",
       "      <td>0.591407</td>\n",
       "      <td>0.408593</td>\n",
       "    </tr>\n",
       "    <tr>\n",
       "      <th>128</th>\n",
       "      <td>DB09078</td>\n",
       "      <td>1</td>\n",
       "      <td>0.406470</td>\n",
       "      <td>0.593530</td>\n",
       "    </tr>\n",
       "    <tr>\n",
       "      <th>129</th>\n",
       "      <td>DB09079</td>\n",
       "      <td>0</td>\n",
       "      <td>0.534354</td>\n",
       "      <td>0.465646</td>\n",
       "    </tr>\n",
       "  </tbody>\n",
       "</table>\n",
       "<p>130 rows × 4 columns</p>\n",
       "</div>"
      ],
      "text/plain": [
       "        Name  IsCandidate  Classifier Probability Class 0  \\\n",
       "0    DB00125            0                        0.664656   \n",
       "1    DB00155            0                        0.670942   \n",
       "2        163            0                        0.530802   \n",
       "3    DB00185            0                        0.801896   \n",
       "4        201            0                        0.705939   \n",
       "..       ...          ...                             ...   \n",
       "125  DB09068            0                        0.742999   \n",
       "126  DB09073            0                        0.679037   \n",
       "127  DB09076            0                        0.591407   \n",
       "128  DB09078            1                        0.406470   \n",
       "129  DB09079            0                        0.534354   \n",
       "\n",
       "     Classifier Probability Class 1  \n",
       "0                          0.335344  \n",
       "1                          0.329058  \n",
       "2                          0.469198  \n",
       "3                          0.198104  \n",
       "4                          0.294061  \n",
       "..                              ...  \n",
       "125                        0.257001  \n",
       "126                        0.320963  \n",
       "127                        0.408593  \n",
       "128                        0.593530  \n",
       "129                        0.465646  \n",
       "\n",
       "[130 rows x 4 columns]"
      ]
     },
     "execution_count": 33,
     "metadata": {},
     "output_type": "execute_result"
    }
   ],
   "source": [
    "ProposedCandidates = pd.DataFrame({'Name':Pr.iloc[:,0],'IsCandidate':Yp2,'Classifier Probability Class 0':ProbPredSet[:,0],'Classifier Probability Class 1':ProbPredSet[:,1]})\n",
    "ProposedCandidates\n",
    "#ProposedCandidates.to_csv('CandidatePredictions_Proba.csv')"
   ]
  },
  {
   "cell_type": "code",
   "execution_count": 56,
   "metadata": {},
   "outputs": [],
   "source": [
    "featureImportance =  pd.DataFrame(forest.feature_importances_,index = X.columns,columns = (['InterTree Variability'])).sort_values('InterTree Variability',ascending = False)"
   ]
  },
  {
   "cell_type": "code",
   "execution_count": 59,
   "metadata": {},
   "outputs": [],
   "source": [
    "featureImportance.to_excel(\"featureImportances.xls\")"
   ]
  },
  {
   "cell_type": "code",
   "execution_count": 46,
   "metadata": {
    "scrolled": false
   },
   "outputs": [],
   "source": [
    "from matplotlib import pyplot as plt\n",
    "# FeatureImportances = featureImportance.head(20)\n",
    "# FeatureImportances.plot.barh(figsize = (15,15))\n",
    "#plt.savefig('Feature Importance.jpg')"
   ]
  },
  {
   "cell_type": "code",
   "execution_count": 34,
   "metadata": {},
   "outputs": [
    {
     "data": {
      "text/plain": [
       "array([[0.80459187, 0.19540813],\n",
       "       [0.43277903, 0.56722097],\n",
       "       [0.84601735, 0.15398265],\n",
       "       [0.69071558, 0.30928442],\n",
       "       [0.44637152, 0.55362848],\n",
       "       [0.54401804, 0.45598196],\n",
       "       [0.62381065, 0.37618935],\n",
       "       [0.66561299, 0.33438701],\n",
       "       [0.76495306, 0.23504694],\n",
       "       [0.57805718, 0.42194282],\n",
       "       [0.46582373, 0.53417627],\n",
       "       [0.39223498, 0.60776502],\n",
       "       [0.76437123, 0.23562877],\n",
       "       [0.41676515, 0.58323485],\n",
       "       [0.66204177, 0.33795823],\n",
       "       [0.71588706, 0.28411294],\n",
       "       [0.63132118, 0.36867882],\n",
       "       [0.63745863, 0.36254137],\n",
       "       [0.81367863, 0.18632137],\n",
       "       [0.49719377, 0.50280623],\n",
       "       [0.73567663, 0.26432337],\n",
       "       [0.53728292, 0.46271708],\n",
       "       [0.75162234, 0.24837766],\n",
       "       [0.67642826, 0.32357174],\n",
       "       [0.63870478, 0.36129522],\n",
       "       [0.47155223, 0.52844777],\n",
       "       [0.57586486, 0.42413514],\n",
       "       [0.73587513, 0.26412487],\n",
       "       [0.45030101, 0.54969899],\n",
       "       [0.3797126 , 0.6202874 ],\n",
       "       [0.49988153, 0.50011847],\n",
       "       [0.57493173, 0.42506827],\n",
       "       [0.51206517, 0.48793483],\n",
       "       [0.40573006, 0.59426994],\n",
       "       [0.80053239, 0.19946761],\n",
       "       [0.48577725, 0.51422275],\n",
       "       [0.70367646, 0.29632354],\n",
       "       [0.60150989, 0.39849011],\n",
       "       [0.59098233, 0.40901767],\n",
       "       [0.61602478, 0.38397522],\n",
       "       [0.72977476, 0.27022524]])"
      ]
     },
     "execution_count": 34,
     "metadata": {},
     "output_type": "execute_result"
    }
   ],
   "source": [
    "y_score = forest.predict_proba(X_test)\n",
    "y_score"
   ]
  },
  {
   "cell_type": "code",
   "execution_count": 42,
   "metadata": {},
   "outputs": [
    {
     "data": {
      "text/plain": [
       "0.7743589743589744"
      ]
     },
     "execution_count": 42,
     "metadata": {},
     "output_type": "execute_result"
    }
   ],
   "source": [
    "from sklearn.metrics import roc_auc_score\n",
    "roc_auc_score(y_test,y_score[:,1])"
   ]
  },
  {
   "cell_type": "code",
   "execution_count": 47,
   "metadata": {},
   "outputs": [
    {
     "data": {
      "text/plain": [
       "0.9241666666666667"
      ]
     },
     "execution_count": 47,
     "metadata": {},
     "output_type": "execute_result"
    }
   ],
   "source": [
    "YSC = forest.predict_proba(X)\n",
    "auc = roc_auc_score(y,YSC[:,1])\n",
    "auc"
   ]
  },
  {
   "cell_type": "code",
   "execution_count": 48,
   "metadata": {},
   "outputs": [
    {
     "data": {
      "image/png": "[encoded data removed]",
      "text/plain": [
       "<Figure size 432x288 with 1 Axes>"
      ]
     },
     "metadata": {
      "needs_background": "light"
     },
     "output_type": "display_data"
    }
   ],
   "source": [
    "from sklearn.metrics import roc_curve\n",
    "fpr, tpr, thresholds = roc_curve(y,YSC[:,1])\n",
    "plt.plot([0,1],[0,1],linestyle = '--')\n",
    "plt.plot(fpr, tpr, label='ROC curve: AUC={0:0.2f}'.format(auc))\n",
    "plt.xlabel('FPR')\n",
    "plt.ylabel('TPR')\n",
    "#plt.ylim([0.0, 1.05])\n",
    "#plt.xlim([0.0, 1.0])\n",
    "plt.grid(True)\n",
    "#plt.savefig('Receiver Operating Characteristic.jpg')\n",
    "plt.show()\n"
   ]
  },
  {
   "cell_type": "code",
   "execution_count": 31,
   "metadata": {},
   "outputs": [
    {
     "data": {
      "text/plain": [
       "array([[81,  3],\n",
       "       [14, 36]], dtype=int64)"
      ]
     },
     "execution_count": 31,
     "metadata": {},
     "output_type": "execute_result"
    }
   ],
   "source": [
    "Y = forest.predict(X)\n",
    "from sklearn.metrics import confusion_matrix\n",
    "confusion_matrix(y,Y)"
   ]
  },
  {
   "cell_type": "code",
   "execution_count": 32,
   "metadata": {
    "scrolled": true
   },
   "outputs": [
    {
     "name": "stdout",
     "output_type": "stream",
     "text": [
      "              precision    recall  f1-score   support\n",
      "\n",
      "           0       0.86      0.92      0.89        26\n",
      "           1       0.85      0.73      0.79        15\n",
      "\n",
      "    accuracy                           0.85        41\n",
      "   macro avg       0.85      0.83      0.84        41\n",
      "weighted avg       0.85      0.85      0.85        41\n",
      "\n"
     ]
    }
   ],
   "source": [
    "Y_Test = forest.predict(X_test)\n",
    "from sklearn.metrics import classification_report\n",
    "print(classification_report(y_test,Y_Test))"
   ]
  },
  {
   "cell_type": "code",
   "execution_count": 33,
   "metadata": {},
   "outputs": [
    {
     "name": "stdout",
     "output_type": "stream",
     "text": [
      "              precision    recall  f1-score   support\n",
      "\n",
      "           0       0.85      0.98      0.91        58\n",
      "           1       0.96      0.71      0.82        35\n",
      "\n",
      "    accuracy                           0.88        93\n",
      "   macro avg       0.91      0.85      0.87        93\n",
      "weighted avg       0.89      0.88      0.88        93\n",
      "\n"
     ]
    }
   ],
   "source": [
    "Y_Train = forest.predict(X_train)\n",
    "from sklearn.metrics import classification_report\n",
    "print(classification_report(y_train,Y_Train))"
   ]
  },
  {
   "cell_type": "code",
   "execution_count": 34,
   "metadata": {
    "scrolled": true
   },
   "outputs": [
    {
     "name": "stdout",
     "output_type": "stream",
     "text": [
      "              precision    recall  f1-score   support\n",
      "\n",
      "           0       0.85      0.96      0.91        84\n",
      "           1       0.92      0.72      0.81        50\n",
      "\n",
      "    accuracy                           0.87       134\n",
      "   macro avg       0.89      0.84      0.86       134\n",
      "weighted avg       0.88      0.87      0.87       134\n",
      "\n"
     ]
    }
   ],
   "source": [
    "Yprediction = forest.predict(X)\n",
    "from sklearn.metrics import classification_report\n",
    "print(classification_report(y,Yprediction))"
   ]
  },
  {
   "cell_type": "code",
   "execution_count": null,
   "metadata": {},
   "outputs": [],
   "source": []
  },
  {
   "cell_type": "code",
   "execution_count": 90,
   "metadata": {},
   "outputs": [],
   "source": []
  },
  {
   "cell_type": "code",
   "execution_count": null,
   "metadata": {},
   "outputs": [],
   "source": []
  },
  {
   "cell_type": "code",
   "execution_count": null,
   "metadata": {},
   "outputs": [],
   "source": []
  },
  {
   "cell_type": "code",
   "execution_count": null,
   "metadata": {},
   "outputs": [],
   "source": []
  }
 ],
 "metadata": {
  "kernelspec": {
   "name": "python376jvsc74a57bd0d4e689affbe18adfb32a0cdbbd21e967cd9823358f6cd1aa055e9fc7dbf02bc1",
   "display_name": "Python 3.7.6 64-bit (conda)"
  },
  "language_info": {
   "codemirror_mode": {
    "name": "ipython",
    "version": 3
   },
   "file_extension": ".py",
   "mimetype": "text/x-python",
   "name": "python",
   "nbconvert_exporter": "python",
   "pygments_lexer": "ipython3",
   "version": "3.7.6-final"
  }
 },
 "nbformat": 4,
 "nbformat_minor": 2
}