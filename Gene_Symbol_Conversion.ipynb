{
 "cells": [
  {
   "cell_type": "code",
   "execution_count": null,
   "metadata": {},
   "outputs": [],
   "source": [
    "# -*- coding: utf-8 -*-\n",
    "\"\"\"\n",
    "Created on Fri Jan 18 14:09:00 2019\n",
    "\n",
    "@author: venug\n",
    "\"\"\"\n",
    "import numpy as np\n",
    "import pandas as pd\n",
    "from urllib.request import urlopen\n",
    "from bs4 import BeautifulSoup\n",
    "import json\n",
    "\n",
    "\n"
   ]
  },
  {
   "cell_type": "markdown",
   "metadata": {},
   "source": [
    "## Web Scraper\n"
   ]
  },
  {
   "cell_type": "code",
   "execution_count": null,
   "metadata": {
    "scrolled": false
   },
   "outputs": [],
   "source": [
    "symbols = np.loadtxt(r'C:\\Users\\venug\\Desktop\\Pathways and merged network builds\\gene_symbols.txt',dtype = str, delimiter = ', ')\n",
    "print(symbols)\n",
    "hsa_id = {}\n",
    "dt = []\n",
    "for symbol in symbols:\n",
    "    url = 'http://rest.kegg.jp/find/hsa/{}'.format(symbol)\n",
    "    h = urlopen(url)\n",
    "    soup = BeautifulSoup(h,'lxml')\n",
    "    text = soup.get_text()\n",
    "    arr=text.split('\\n')\n",
    "    ele=[]\n",
    "   \n",
    "    for a in arr:\n",
    "        if((a.find('\\t'+symbol+',') > 0) or (a.find('\\t' + symbol+';')>0) or (a.find(' '+symbol+',') > 0) or (a.find(' '+symbol+';')>0)):\n",
    "            ele.append(a)\n",
    "    hsa_id[symbol]=ele\n",
    "    dt.append(ele)\n",
    "        \n",
    "    with open('jsonfile.json','w+') as file:\n",
    "        json.dump(hsa_id,file,indent=4)\n",
    "print(dt)        \n"
   ]
  },
  {
   "cell_type": "code",
   "execution_count": null,
   "metadata": {},
   "outputs": [],
   "source": [
    "gene_symbols = pd.Series(symbols)\n",
    "dt1 = pd.Series(dt)\n",
    "df = pd.DataFrame({'gene_symbol':symbols,'data':dt1})\n",
    "\n",
    "#print(df.iloc[30])\n",
    "\n",
    "print(df.head)\n",
    "\n",
    "df.to_csv('hsa_id_data.csv')\n",
    "#np.savetxt(r'C:\\Users\\venug\\Desktop\\Pathways and merged network builds\\hsa_ids_data.txt', df.values, fmt = '%s')\n"
   ]
  },
  {
   "cell_type": "markdown",
   "metadata": {},
   "source": [
    "## Substring Matching"
   ]
  },
  {
   "cell_type": "code",
   "execution_count": null,
   "metadata": {
    "scrolled": true
   },
   "outputs": [],
   "source": [
    "\n",
    "\n",
    "df = pd.read_csv(r'C:\\Users\\venug\\Downloads\\sub-string-shared-names.csv')\n",
    "listx = df['shared name']\n",
    "list2 = df['Hsa_Id']\n",
    "#print(df.head(10))\n",
    "#print(list2)\n",
    "list1 = [ i for i in listx if type(i) is not float]\n",
    "#print(list1)\n",
    "list3 =[]\n",
    "for id1 in list1:\n",
    "    for id2 in list2:\n",
    "        for j in range(len(id1)):\n",
    "               n=0\n",
    "               t=j\n",
    "               while n < len(id2) and t < len(id1) and id1[t] == id2[n]:\n",
    "                      t+=1\n",
    "                      n+=1\n",
    "               if n == len(id2):\n",
    "                      list3.append(id1)\n",
    "              \n",
    "print(list3)\n",
    "df2=pd.DataFrame(list3)\n",
    "df2.to_csv('filtered.csv',header = None,index = None)\n"
   ]
  },
  {
   "cell_type": "code",
   "execution_count": null,
   "metadata": {},
   "outputs": [],
   "source": []
  },
  {
   "cell_type": "code",
   "execution_count": null,
   "metadata": {},
   "outputs": [],
   "source": []
  }
 ],
 "metadata": {
  "kernelspec": {
   "display_name": "Python 3",
   "language": "python",
   "name": "python3"
  },
  "language_info": {
   "codemirror_mode": {
    "name": "ipython",
    "version": 3
   },
   "file_extension": ".py",
   "mimetype": "text/x-python",
   "name": "python",
   "nbconvert_exporter": "python",
   "pygments_lexer": "ipython3",
   "version": "3.7.6"
  }
 },
 "nbformat": 4,
 "nbformat_minor": 2
}